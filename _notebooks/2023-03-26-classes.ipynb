{
 "cells": [
  {
   "attachments": {},
   "cell_type": "markdown",
   "metadata": {},
   "source": [
    "# Classes and Objects\n",
    "> notes\n",
    "\n",
    "- title: Classes and Objects\n",
    "- toc: false\n",
    "- comments: false\n",
    "- categories: [tri3]"
   ]
  },
  {
   "attachments": {},
   "cell_type": "markdown",
   "metadata": {},
   "source": [
    "## Classes and Objects\n",
    "- Access modifier: This specifies the level of access that other parts of your code have to the class. There are three main access modifiers in Java:\n",
    "    - Public: Can be accessed from anywhere.\n",
    "    - Protected: Can be accessed within the same package or by subclasses.\n",
    "    - Private: Can only be accessed within the same class.\n",
    "    - Accessor methods return a value they dont have a void\n",
    "    - mutator methods change the state of an \n",
    "    \n",
    "- Static Methods\n",
    "    - ex: when calling : object.method(); ie: student.getName(); will reutrn the students name usings static methods\n",
    "    - math class provides static methods that we use through class.methdo();\n",
    "    - ie: (Math.abs(-45)); will print 45 using string class objects\n",
    "\n",
    "- Constructor: A special method that is used to create instances of the class. Constructors have the same name as the class and can take parameters to initialize the object's properties.\n",
    "    - have parameters\n",
    "    - ex: person teacher = new perseon(\"mr.s, 39, ohio\");\n",
    "\n",
    "- Modifiers/setters: Allow you to modify the values of the class's properties. Modifiers aka \"setters\" because they set the value of a property to a new value. Usually named using the pattern set<PropertyName>.\n",
    "\n",
    "- Getters: Allow you to get the values of the class's properties. Getters usually named using the pattern get<PropertyName>."
   ]
  }
 ],
 "metadata": {
  "kernelspec": {
   "display_name": "Java",
   "language": "java",
   "name": "java"
  },
  "language_info": {
   "name": "java"
  },
  "orig_nbformat": 4
 },
 "nbformat": 4,
 "nbformat_minor": 2
}
