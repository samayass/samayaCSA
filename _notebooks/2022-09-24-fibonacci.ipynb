{
 "cells": [
  {
   "cell_type": "markdown",
   "id": "ac6cc5d3-eda1-4d8f-8910-7ea520fb006b",
   "metadata": {},
   "source": [
    "# Fibonacci With Loops Jupyter Notebook\n",
    "> For, While and Recursion\n",
    "\n",
    "- title: Fibonacci With Loops\n",
    "- toc: true\n",
    "- comments: true\n",
    "- categories: [jupyter]"
   ]
  },
  {
   "cell_type": "markdown",
   "id": "a4795963-45f1-4347-b30c-4df0b824d92d",
   "metadata": {},
   "source": [
    "## For Loop"
   ]
  },
  {
   "cell_type": "code",
   "execution_count": 13,
   "id": "5ebe78d4-084e-4b0a-8012-ae090bd4be57",
   "metadata": {},
   "outputs": [
    {
     "name": "stdout",
     "output_type": "stream",
     "text": [
      "Enter an integer: \n"
     ]
    },
    {
     "name": "stdin",
     "output_type": "stream",
     "text": [
      " 9\n"
     ]
    },
    {
     "name": "stdout",
     "output_type": "stream",
     "text": [
      "The number is: 9\n",
      "0 1 1 2 3 5 8 13 21 "
     ]
    }
   ],
   "source": [
    "public class FibonacciFor {\n",
    "     public static void main(String[] args) {\n",
    "        Scanner input = new Scanner(System.in);\n",
    "        System.out.println(\"Enter an integer: \");\n",
    "        int a = input.nextInt();\n",
    "        System.out.println(\"The number is: \" + a);\n",
    "        int first = 0;\n",
    "        int second = 1;\n",
    "        \n",
    "        for (int i = 1; i <= a; ++i) {\n",
    "            System.out.print(first + \" \");\n",
    "            int sum = first + second;\n",
    "            first = second;\n",
    "            second = sum;\n",
    "        }\n",
    "            \n",
    " \n",
    "     }\n",
    "}\n",
    "\n",
    "FibonacciFor.main(null);"
   ]
  },
  {
   "cell_type": "markdown",
   "id": "4900c1ae-ba5b-4734-abcc-2b42995b85ba",
   "metadata": {},
   "source": [
    "## While Loop"
   ]
  },
  {
   "cell_type": "code",
   "execution_count": 10,
   "id": "b246dae4-75b0-4e37-9ffc-8f5efe7e4f1b",
   "metadata": {},
   "outputs": [
    {
     "name": "stdout",
     "output_type": "stream",
     "text": [
      "Enter an integer: \n"
     ]
    },
    {
     "name": "stdin",
     "output_type": "stream",
     "text": [
      " 9\n"
     ]
    },
    {
     "name": "stdout",
     "output_type": "stream",
     "text": [
      "0 1 1 2 3 5 8 13 21 "
     ]
    }
   ],
   "source": [
    "public class FibonacciWhile {\n",
    "    public static void main(String[] args) {\n",
    "       Scanner input = new Scanner(System.in);\n",
    "        System.out.println(\"Enter an integer: \");\n",
    "        int a = input.nextInt();\n",
    "        System.out.println(\"The number is: \" + a);\n",
    "        int first = 0;\n",
    "        int second = 1;\n",
    "        int i = 1;\n",
    "        \n",
    "        while (i <= a) {\n",
    "            System.out.print(first + \" \");\n",
    "            int sum = first + second;\n",
    "            first = second;\n",
    "            second = sum;\n",
    "            i++;\n",
    "        }\n",
    "    }\n",
    "}\n",
    "\n",
    "FibonacciWhile.main(null);\n",
    "    "
   ]
  },
  {
   "cell_type": "markdown",
   "id": "144d9f4f-4319-4a26-9334-154b2fa58098",
   "metadata": {},
   "source": [
    "## Recursion"
   ]
  },
  {
   "cell_type": "code",
   "execution_count": 12,
   "id": "c0d9bb6d-e407-4b89-8149-056236161621",
   "metadata": {},
   "outputs": [
    {
     "name": "stdout",
     "output_type": "stream",
     "text": [
      "Enter a number: \n"
     ]
    },
    {
     "name": "stdin",
     "output_type": "stream",
     "text": [
      " 9\n"
     ]
    },
    {
     "name": "stdout",
     "output_type": "stream",
     "text": [
      "The number is: 9\n",
      "0 1 1 2 3 5 8 13 21 "
     ]
    }
   ],
   "source": [
    "class FibonacciRecursive {\n",
    "    static int fibonacci(int n)\n",
    "    {\n",
    "\n",
    "        if (n <= 1)\n",
    "            return n;\n",
    "  \n",
    "\n",
    "        return fibonacci(n - 1)\n",
    "            + fibonacci(n - 2);\n",
    "    }\n",
    "  \n",
    "\n",
    "    public static void main(String args[])\n",
    "    {\n",
    "        Scanner input = new Scanner(System.in);\n",
    "        System.out.println(\"Enter a number: \");\n",
    " \n",
    "        int N = input.nextInt();\n",
    "        System.out.println(\"The number is: \" + N);\n",
    "        for (int i = 0; i < N; i++) {\n",
    "  \n",
    "            System.out.print(fibonacci(i) + \" \");\n",
    "        }\n",
    "    }\n",
    "}\n",
    "\n",
    "FibonacciRecursive.main(null)"
   ]
  },
  {
   "cell_type": "code",
   "execution_count": null,
   "id": "299222d7-d2cf-46db-b46d-bc6c3d7238ca",
   "metadata": {},
   "outputs": [],
   "source": []
  }
 ],
 "metadata": {
  "kernelspec": {
   "display_name": "Java",
   "language": "java",
   "name": "java"
  },
  "language_info": {
   "codemirror_mode": "java",
   "file_extension": ".jshell",
   "mimetype": "text/x-java-source",
   "name": "Java",
   "pygments_lexer": "java",
   "version": "11.0.16+8-post-Ubuntu-0ubuntu120.04"
  }
 },
 "nbformat": 4,
 "nbformat_minor": 5
}
