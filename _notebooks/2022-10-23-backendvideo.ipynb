{
 "cells": [
  {
   "cell_type": "markdown",
   "metadata": {},
   "source": [
    "# Backend Video\n",
    "> Backend\n",
    "\n",
    "- title: Backend Video\n",
    "- toc: false\n",
    "- comments: false\n",
    "- categories: [jupyter]"
   ]
  }
 ],
 "metadata": {
  "language_info": {
   "name": "python"
  },
  "orig_nbformat": 4
 },
 "nbformat": 4,
 "nbformat_minor": 2
}
