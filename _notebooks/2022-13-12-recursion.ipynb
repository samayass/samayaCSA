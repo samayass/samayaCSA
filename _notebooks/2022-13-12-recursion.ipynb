{
 "cells": [
  {
   "cell_type": "markdown",
   "metadata": {},
   "source": [
    "# Recursion Lesson\n",
    "> Recursion\n",
    "\n",
    "- title: Recursion Lesson\n",
    "- toc: false\n",
    "- comments: false\n",
    "- categories: [jupyter]"
   ]
  },
  {
   "attachments": {},
   "cell_type": "markdown",
   "metadata": {},
   "source": [
    "## Vocab\n",
    "\n",
    "### Big O notation for Hash map, Binary Search, Single loop, Nested Loop\n",
    "- Big O notation describes the set of all algorithms that run no worse than a certain speed, no better than a certain speed, and at a certain speed\n",
    "- Shows the number of operations it will perform\n",
    "\n",
    "## Introduction to Recursion\n",
    "- a method that calls itself\n",
    "- contains at least one base case that halts recursion and once recursive call\n",
    "- each recursive call has own local variables\n",
    "- parameter values take progress of recursive process\n",
    "- a recursion can be replaced with an iterative and give the same result\n",
    "- recursion can traverse string, array and arraylist objects\n",
    "\n",
    "## Merge Sort\n",
    "- can be used to sort arraylists\n",
    "- Uses a divide and conquer algorithm\n",
    "- divides the array into halves and then calls itself for the two different halves in order to sort them\n",
    "- merges the two sorted halves into one list\n",
    "- Merging Values into One Sorted Array\n",
    "- copy the original elements into a temporary array\n",
    "- work from left to right in each virtual array to \n",
    "- compare element and return them to the correct order in the original array\n"
   ]
  }
 ],
 "metadata": {
  "language_info": {
   "name": "python"
  },
  "orig_nbformat": 4
 },
 "nbformat": 4,
 "nbformat_minor": 2
}
