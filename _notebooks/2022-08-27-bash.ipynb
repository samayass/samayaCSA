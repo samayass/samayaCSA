{
 "cells": [
  {
   "cell_type": "markdown",
   "id": "2654be50-1bab-4655-8a67-df2fd33b5bb8",
   "metadata": {},
   "source": [
    "# Bash Jupyter Notebook\n",
    "> Verifying deployment procedures using Bash\n",
    "\n",
    "- title: Bash Jupyter Notebook\n",
    "- toc: false\n",
    "- categories: [jupyter]"
   ]
  },
  {
   "cell_type": "markdown",
   "id": "7622190f-bc10-40e1-90a6-96adbcf4a7ec",
   "metadata": {},
   "source": [
    "# Bash"
   ]
  },
  {
   "cell_type": "code",
   "execution_count": 10,
   "id": "eada04d3-83cd-48c7-858a-8399d0c7b9e6",
   "metadata": {},
   "outputs": [
    {
     "name": "stdout",
     "output_type": "stream",
     "text": [
      "Using conditional statement to create a project directory and project\n",
      "Directory /home/samaya/vscode exists.\n",
      "Directory /home/samaya/vscode/APCSP exists.\n"
     ]
    }
   ],
   "source": [
    "echo \"Using conditional statement to create a project directory and project\"\n",
    "\n",
    "# Variable section\n",
    "export project_dir=$HOME/vscode  # change vscode to different name to test git clone\n",
    "export project=$project_dir/APCSP  # change APCSP to name of project from git clone\n",
    "export project_repo=\"https://github.com/nighthawkcoders/APCSP.git\"  # change to project of choice\n",
    "\n",
    "cd ~    # start in home directory\n",
    "\n",
    "# Conditional block to make a project directory\n",
    "if [ ! -d $project_dir ]\n",
    "then \n",
    "    echo \"Directory $project_dir does not exists... makinng directory $project_dir\"\n",
    "    mkdir -p $project_dir\n",
    "fi\n",
    "echo \"Directory $project_dir exists.\" \n",
    "\n",
    "# Conditional block to git clone a project from project_repo\n",
    "if [ ! -d $project ]\n",
    "then\n",
    "    echo \"Directory $project does not exists... cloning $project_repo\"\n",
    "    cd $project_dir\n",
    "    git clone $project_repo\n",
    "    cd ~\n",
    "fi\n",
    "echo \"Directory $project exists.\""
   ]
  },
  {
   "cell_type": "code",
   "execution_count": 5,
   "id": "31268a46-304f-43c2-b1da-3e95bb9652e6",
   "metadata": {},
   "outputs": [
    {
     "name": "stdout",
     "output_type": "stream",
     "text": [
      "Navigate to project, then navigate to area wwhere files were cloned\n",
      "/home/samaya/vscode/APCSP\n",
      "\n",
      "list top level or root of files with project pulled from github\n",
      "\u001b[0m\u001b[01;32mGemfile\u001b[0m    \u001b[01;34m_action_files\u001b[0m    \u001b[01;34m_layouts\u001b[0m    \u001b[01;34m_posts\u001b[0m  \u001b[01;32mdocker-compose.yml\u001b[0m\n",
      "LICENSE    _config.yml      \u001b[01;34m_notebooks\u001b[0m  \u001b[01;34m_sass\u001b[0m   \u001b[01;34mimages\u001b[0m\n",
      "\u001b[01;32mMakefile\u001b[0m   \u001b[01;34m_fastpages_docs\u001b[0m  \u001b[01;34m_pages\u001b[0m      \u001b[01;34m_word\u001b[0m   index.html\n",
      "\u001b[01;32mREADME.md\u001b[0m  \u001b[01;34m_includes\u001b[0m        \u001b[01;34m_plugins\u001b[0m    \u001b[01;34massets\u001b[0m  \u001b[01;34mpython\u001b[0m\n",
      "\n",
      "list again with hidden files pulled from github\n",
      "\u001b[0m\u001b[01;34m.\u001b[0m                   .gitignore  \u001b[01;34m_action_files\u001b[0m    \u001b[01;34m_pages\u001b[0m    \u001b[01;32mdocker-compose.yml\u001b[0m\n",
      "\u001b[01;34m..\u001b[0m                  \u001b[01;34m.vscode\u001b[0m     _config.yml      \u001b[01;34m_plugins\u001b[0m  \u001b[01;34mimages\u001b[0m\n",
      ".devcontainer.json  \u001b[01;32mGemfile\u001b[0m     \u001b[01;34m_fastpages_docs\u001b[0m  \u001b[01;34m_posts\u001b[0m    index.html\n",
      "\u001b[01;34m.git\u001b[0m                LICENSE     \u001b[01;34m_includes\u001b[0m        \u001b[01;34m_sass\u001b[0m     \u001b[01;34mpython\u001b[0m\n",
      ".gitattributes      \u001b[01;32mMakefile\u001b[0m    \u001b[01;34m_layouts\u001b[0m         \u001b[01;34m_word\u001b[0m\n",
      "\u001b[01;34m.github\u001b[0m             \u001b[01;32mREADME.md\u001b[0m   \u001b[01;34m_notebooks\u001b[0m       \u001b[01;34massets\u001b[0m\n",
      "\n",
      "list all files in long format\n",
      "total 120\n",
      "drwxr-xr-x 18 samaya samaya  4096 Aug 25 22:25 \u001b[0m\u001b[01;34m.\u001b[0m\n",
      "drwxr-xr-x  4 samaya samaya  4096 Aug 25 22:25 \u001b[01;34m..\u001b[0m\n",
      "-rw-r--r--  1 samaya samaya   420 Aug 25 22:25 .devcontainer.json\n",
      "drwxr-xr-x  8 samaya samaya  4096 Aug 25 22:25 \u001b[01;34m.git\u001b[0m\n",
      "-rw-r--r--  1 samaya samaya    84 Aug 25 22:25 .gitattributes\n",
      "drwxr-xr-x  4 samaya samaya  4096 Aug 25 22:25 \u001b[01;34m.github\u001b[0m\n",
      "-rw-r--r--  1 samaya samaya   917 Aug 25 22:25 .gitignore\n",
      "drwxr-xr-x  2 samaya samaya  4096 Aug 25 22:25 \u001b[01;34m.vscode\u001b[0m\n",
      "-rwxr-xr-x  1 samaya samaya  1304 Aug 25 22:25 \u001b[01;32mGemfile\u001b[0m\n",
      "-rw-r--r--  1 samaya samaya 11351 Aug 25 22:25 LICENSE\n",
      "-rwxr-xr-x  1 samaya samaya  1422 Aug 25 22:25 \u001b[01;32mMakefile\u001b[0m\n",
      "-rwxr-xr-x  1 samaya samaya  3614 Aug 25 22:25 \u001b[01;32mREADME.md\u001b[0m\n",
      "drwxr-xr-x  2 samaya samaya  4096 Aug 25 22:25 \u001b[01;34m_action_files\u001b[0m\n",
      "-rw-r--r--  1 samaya samaya  3716 Aug 25 22:25 _config.yml\n",
      "drwxr-xr-x  2 samaya samaya  4096 Aug 25 22:25 \u001b[01;34m_fastpages_docs\u001b[0m\n",
      "drwxr-xr-x  2 samaya samaya  4096 Aug 25 22:25 \u001b[01;34m_includes\u001b[0m\n",
      "drwxr-xr-x  2 samaya samaya  4096 Aug 25 22:25 \u001b[01;34m_layouts\u001b[0m\n",
      "drwxr-xr-x  3 samaya samaya  4096 Aug 25 22:25 \u001b[01;34m_notebooks\u001b[0m\n",
      "drwxr-xr-x  2 samaya samaya  4096 Aug 25 22:25 \u001b[01;34m_pages\u001b[0m\n",
      "drwxr-xr-x  2 samaya samaya  4096 Aug 25 22:25 \u001b[01;34m_plugins\u001b[0m\n",
      "drwxr-xr-x  2 samaya samaya  4096 Aug 25 22:25 \u001b[01;34m_posts\u001b[0m\n",
      "drwxr-xr-x  3 samaya samaya  4096 Aug 25 22:25 \u001b[01;34m_sass\u001b[0m\n",
      "drwxr-xr-x  2 samaya samaya  4096 Aug 25 22:25 \u001b[01;34m_word\u001b[0m\n",
      "drwxr-xr-x  4 samaya samaya  4096 Aug 25 22:25 \u001b[01;34massets\u001b[0m\n",
      "-rwxr-xr-x  1 samaya samaya  1136 Aug 25 22:25 \u001b[01;32mdocker-compose.yml\u001b[0m\n",
      "drwxr-xr-x  5 samaya samaya  4096 Aug 25 22:25 \u001b[01;34mimages\u001b[0m\n",
      "-rw-r--r--  1 samaya samaya  1061 Aug 25 22:25 index.html\n",
      "drwxr-xr-x  2 samaya samaya  4096 Aug 25 22:25 \u001b[01;34mpython\u001b[0m\n"
     ]
    }
   ],
   "source": [
    "echo \"Navigate to project, then navigate to area wwhere files were cloned\"\n",
    "cd $project\n",
    "pwd\n",
    "\n",
    "echo \"\"\n",
    "echo \"list top level or root of files with project pulled from github\"\n",
    "ls\n",
    "\n",
    "echo \"\"\n",
    "echo \"list again with hidden files pulled from github\"\n",
    "ls -a   # hidden files flag, many shell commands have flags\n",
    "\n",
    "echo \"\"\n",
    "echo \"list all files in long format\"\n",
    "ls -al   # all files and long listing"
   ]
  },
  {
   "cell_type": "code",
   "execution_count": 6,
   "id": "b66c0d42-dcfc-4346-bcec-630158ebdaa1",
   "metadata": {},
   "outputs": [
    {
     "name": "stdout",
     "output_type": "stream",
     "text": [
      "Look for posts\n",
      "/home/samaya/vscode/APCSP/_posts\n",
      "total 228\n",
      "-rw-r--r-- 1 samaya samaya 21306 Aug 25 22:25 2022-06-01-TT160-deploy.md\n",
      "-rw-r--r-- 1 samaya samaya  5861 Aug 25 22:25 2022-07-07-PBL-binary.md\n",
      "-rw-r--r-- 1 samaya samaya  3085 Aug 25 22:25 2022-07-08-PBL-grade_calc.md\n",
      "-rw-r--r-- 1 samaya samaya  3698 Aug 25 22:25 2022-07-08-PBL-graph.md\n",
      "-rw-r--r-- 1 samaya samaya  5729 Aug 25 22:25 2022-07-08-PBL-life.md\n",
      "-rw-r--r-- 1 samaya samaya 14387 Aug 25 22:25 2022-07-08-PBL-snake.md\n",
      "-rw-r--r-- 1 samaya samaya   334 Aug 25 22:25 2022-07-10-PBL-database.md\n",
      "-rw-r--r-- 1 samaya samaya  2908 Aug 25 22:25 2022-07-10-PBL-jokes.md\n",
      "-rw-r--r-- 1 samaya samaya  4046 Aug 25 22:25 2022-07-10-PBL-rapidapi.md\n",
      "-rw-r--r-- 1 samaya samaya  6685 Aug 25 22:25 2022-07-19-PBL-calculator.md\n",
      "-rw-r--r-- 1 samaya samaya 23325 Aug 25 22:25 2022-07-25-CSP-workshop.md\n",
      "-rw-r--r-- 1 samaya samaya  2333 Aug 25 22:25 2022-08-15-TP000-student_score_history.md\n",
      "-rw-r--r-- 1 samaya samaya  4363 Aug 25 22:25 2022-08-15-TP100-pseudo_code.md\n",
      "-rw-r--r-- 1 samaya samaya  7968 Aug 25 22:25 2022-08-15-TR100-tool_setup.md\n",
      "-rw-r--r-- 1 samaya samaya 15409 Aug 25 22:25 2022-08-15-TT100-tools.md\n",
      "-rw-r--r-- 1 samaya samaya  5590 Aug 25 22:25 2022-08-15-TT101-vscode-wsl.md\n",
      "-rw-r--r-- 1 samaya samaya  2155 Aug 25 22:25 2022-08-22-TR110-intro_python.md\n",
      "-rw-r--r-- 1 samaya samaya  5173 Aug 25 22:25 2022-08-22-TT110-fastpages.md\n",
      "-rw-r--r-- 1 samaya samaya  2798 Aug 25 22:25 2022-08-22-TT110-focus.md\n",
      "-rw-r--r-- 1 samaya samaya  2737 Aug 25 22:25 2022-08-29-TR120-data_abstract.md\n",
      "-rw-r--r-- 1 samaya samaya 10683 Aug 25 22:25 2022-08-29-TT120-agile.md\n",
      "-rw-r--r-- 1 samaya samaya  4498 Aug 25 22:25 2022-08-29-TT120-html_fragments.md\n",
      "-rw-r--r-- 1 samaya samaya  9037 Aug 25 22:25 2022-09-05-TP130-create_performance_task.md\n",
      "-rw-r--r-- 1 samaya samaya  7753 Aug 25 22:25 2022-09-05-TP131-create-task-bria.md\n",
      "-rw-r--r-- 1 samaya samaya  8066 Aug 25 22:25 2022-09-05-TR130-creative_development.md\n",
      "-rw-r--r-- 1 samaya samaya  3520 Aug 25 22:25 2022-09-05-TT130-applab.md\n",
      "-rw-r--r-- 1 samaya samaya   720 Aug 25 22:25 README.md\n"
     ]
    }
   ],
   "source": [
    "echo \"Look for posts\"\n",
    "export posts=$project/_posts  # _posts inside project\n",
    "cd $posts  # this should exist per fastpages\n",
    "pwd  # present working directory\n",
    "ls -l  # list posts"
   ]
  },
  {
   "cell_type": "code",
   "execution_count": 7,
   "id": "b59122bd-a402-4c4a-97ab-78264197c2dc",
   "metadata": {},
   "outputs": [
    {
     "name": "stdout",
     "output_type": "stream",
     "text": [
      "Look for notebooks\n",
      "/home/samaya/vscode/APCSP/_notebooks\n",
      "total 144\n",
      "-rw-r--r-- 1 samaya samaya 14243 Aug 25 22:25 2022-06-01-TT150-webapi_tutorial.ipynb\n",
      "-rw-r--r-- 1 samaya samaya  8653 Aug 25 22:25 2022-07-21-PBL-neo4j_intro.ipynb\n",
      "-rw-r--r-- 1 samaya samaya 11694 Aug 25 22:25 2022-08-22-TP110-python_hello.ipynb\n",
      "-rw-r--r-- 1 samaya samaya 20003 Aug 25 22:25 2022-08-22-TT110-anthony_and_sahil.ipynb\n",
      "-rw-r--r-- 1 samaya samaya  9525 Aug 25 22:25 2022-08-22-TT110-bash_tutorial.ipynb\n",
      "-rw-r--r-- 1 samaya samaya 35721 Aug 25 22:25 2022-08-25-tool_check.ipynb\n",
      "-rw-r--r-- 1 samaya samaya 10141 Aug 25 22:25 2022-08-29-TP120-python_lists.ipynb\n",
      "-rw-r--r-- 1 samaya samaya 12632 Aug 25 22:25 2022-09-05-TT130-js_tutorial.ipynb\n",
      "-rw-r--r-- 1 samaya samaya   771 Aug 25 22:25 README.md\n",
      "drwxr-xr-x 2 samaya samaya  4096 Aug 25 22:25 \u001b[0m\u001b[01;34mimages\u001b[0m\n"
     ]
    }
   ],
   "source": [
    "echo \"Look for notebooks\"\n",
    "export notebooks=$project/_notebooks  # _notebooks is inside project\n",
    "cd $notebooks   # this should exist per fastpages\n",
    "pwd  # present working directory\n",
    "ls -l  # list notebooks"
   ]
  },
  {
   "cell_type": "code",
   "execution_count": 8,
   "id": "b1b0cdca-4996-497b-9d71-5ef116825ecc",
   "metadata": {},
   "outputs": [
    {
     "name": "stdout",
     "output_type": "stream",
     "text": [
      "Look for images in notebooks, print working directory, list files\n",
      "/home/samaya/vscode/APCSP/_notebooks/images\n",
      "total 100\n",
      "-rw-r--r-- 1 samaya samaya 101617 Aug 25 22:25 \u001b[0m\u001b[01;35mkernels.png\u001b[0m\n"
     ]
    }
   ],
   "source": [
    "echo \"Look for images in notebooks, print working directory, list files\"\n",
    "cd $notebooks/images  # this should exist per fastpages\n",
    "pwd\n",
    "ls -l"
   ]
  },
  {
   "cell_type": "code",
   "execution_count": 9,
   "id": "9011ece6-a788-48e7-9efc-a4db4b81478d",
   "metadata": {},
   "outputs": [
    {
     "name": "stdout",
     "output_type": "stream",
     "text": [
      "Navigate to project, then navigate to area wwhere files were cloned\n",
      "show the contents of README.md\n",
      "\n",
      "[//]: # (This template replaces README.md when someone creates a new repo with the fastpages template.)\n",
      "\n",
      "![](https://github.com/nighthawkcoders/APCSP/workflows/CI/badge.svg) \n",
      "![](https://github.com/nighthawkcoders/APCSP/workflows/GH-Pages%20Status/badge.svg) \n",
      "[![](https://img.shields.io/static/v1?label=fastai&message=fastpages&color=57aeac&labelColor=black&style=flat&logo=data:image/png;base64,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)](https://github.com/fastai/fastpages)\n",
      "\n",
      "https://nighthawkcoders.github.io/APCSP/\n",
      "\n",
      "# My Blog\n",
      "\n",
      "\n",
      "_powered by [fastpages](https://github.com/fastai/fastpages)_\n",
      "\n",
      "\n",
      "## What To Do Next?\n",
      "\n",
      "Great!  You have setup your repo.  Now its time to start writing content.  Some helpful links:\n",
      "\n",
      "- [Writing Blogs With Jupyter](https://github.com/fastai/fastpages#writing-blog-posts-with-jupyter)\n",
      "\n",
      "- [Writing Blogs With Markdown](https://github.com/fastai/fastpages#writing-blog-posts-with-markdown)\n",
      "\n",
      "- [Writing Blog Posts With Word](https://github.com/fastai/fastpages#writing-blog-posts-with-microsoft-word)\n",
      "\n",
      "- [(Optional) Preview Your Blog Locally](_fastpages_docs/DEVELOPMENT.md)\n",
      "\n",
      "Note: you may want to remove example blog posts from the `_posts`,  `_notebooks` or `_word` folders (but leave them empty, don't delete these folders) if you don't want these blog posts to appear on your site.\n",
      "\n",
      "Please use the [nbdev & blogging channel](https://forums.fast.ai/c/fastai-users/nbdev/48) in the fastai forums for any questions or feature requests.\n",
      "\n",
      "end of README.md\n"
     ]
    }
   ],
   "source": [
    "echo \"Navigate to project, then navigate to area wwhere files were cloned\"\n",
    "\n",
    "cd $project\n",
    "echo \"show the contents of README.md\"\n",
    "echo \"\"\n",
    "\n",
    "cat README.md  # show contents of file, in this case markdown\n",
    "echo \"\"\n",
    "echo \"end of README.md\""
   ]
  },
  {
   "cell_type": "markdown",
   "id": "247c6f36-0a20-4bac-9ea3-70ead6d72ffa",
   "metadata": {},
   "source": [
    "# Hacks"
   ]
  },
  {
   "cell_type": "markdown",
   "id": "9ae8b45c-cffa-4c2b-bf74-632fda32903f",
   "metadata": {},
   "source": [
    "## Verifying Java and Python Installations"
   ]
  },
  {
   "cell_type": "code",
   "execution_count": null,
   "id": "5b81a2ca-2fef-4a3f-9563-f3d8ef856ed8",
   "metadata": {},
   "outputs": [],
   "source": [
    "echo \"Verifying Java:\"\n",
    "java --version\n",
    "javac --version\n",
    "\n",
    "echo \"Verifying Python:\"\n",
    "python --version\n",
    "python2 --version\n",
    "python3 --version\n",
    "\n"
   ]
  },
  {
   "cell_type": "markdown",
   "id": "bbe51828-3819-4fc8-8a54-19cfd9a0ba42",
   "metadata": {},
   "source": [
    "## Verifying Anaconda Installation"
   ]
  },
  {
   "cell_type": "code",
   "execution_count": null,
   "id": "2d6a94f3-d24a-49ad-a185-fdbc8ec6b538",
   "metadata": {},
   "outputs": [],
   "source": [
    "echo \"Verifying Anaconda:\"\n",
    "conda list"
   ]
  },
  {
   "cell_type": "markdown",
   "id": "210d73f6-6654-4fe5-8710-3feb58e27865",
   "metadata": {},
   "source": [
    "## Jupyter Kernels"
   ]
  },
  {
   "cell_type": "code",
   "execution_count": null,
   "id": "14083a33-5916-453c-9a4f-a355c79de33d",
   "metadata": {},
   "outputs": [],
   "source": [
    "echo \"Jupyter Kernels:\"\n",
    "jupyter kernelspec list"
   ]
  },
  {
   "cell_type": "markdown",
   "id": "9eb6064b-0f00-454d-9332-61b3c38ee74c",
   "metadata": {},
   "source": [
    "## Updating Github Repo"
   ]
  },
  {
   "cell_type": "code",
   "execution_count": null,
   "id": "baaaad4f-a2d1-48c1-a060-4858c9a67cd3",
   "metadata": {},
   "outputs": [],
   "source": [
    "cd ~\n",
    "cd vscode\n",
    "cd samayaCSA\n",
    "git pull "
   ]
  }
 ],
 "metadata": {
  "kernelspec": {
   "display_name": "Bash",
   "language": "bash",
   "name": "bash"
  },
  "language_info": {
   "codemirror_mode": "shell",
   "file_extension": ".sh",
   "mimetype": "text/x-sh",
   "name": "bash"
  }
 },
 "nbformat": 4,
 "nbformat_minor": 5
}
