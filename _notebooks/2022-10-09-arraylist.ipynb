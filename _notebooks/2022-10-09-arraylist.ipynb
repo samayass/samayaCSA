{
 "cells": [
  {
   "cell_type": "markdown",
   "metadata": {},
   "source": [
    "# API Java Arraylist Notebook\n",
    "> Lesson on Arraylists\n",
    "\n",
    "- title: Java Arraylist Jupyter Notebook\n",
    "- toc: false\n",
    "- comments: true\n",
    "- categories: [jupyter]"
   ]
  },
  {
   "cell_type": "markdown",
   "metadata": {},
   "source": [
    "## Initializing an ArrayList\n",
    "> with strings"
   ]
  },
  {
   "cell_type": "code",
   "execution_count": 7,
   "metadata": {
    "vscode": {
     "languageId": "java"
    }
   },
   "outputs": [
    {
     "name": "stdout",
     "output_type": "stream",
     "text": [
      "[grapes, strawberries, blueberries, kiwi, watermelon]\n"
     ]
    }
   ],
   "source": [
    "import java.util.ArrayList; //import array list class\n",
    "\n",
    "public class Main {\n",
    "  public static void main(String[] args) {\n",
    "    ArrayList<String> fruits = new ArrayList<String>();\n",
    "    fruits.add(\"grapes\");\n",
    "    fruits.add(\"strawberries\");\n",
    "    fruits.add(\"blueberries\");\n",
    "    fruits.add(\"kiwi\");\n",
    "    fruits.add(\"watermelon\");\n",
    "    System.out.println(fruits);\n",
    "  }\n",
    "}\n",
    "\n",
    "Main.main(null)"
   ]
  },
  {
   "cell_type": "markdown",
   "metadata": {},
   "source": [
    "## Accessing an Element in an ArrayList\n",
    "> use get() method"
   ]
  },
  {
   "cell_type": "code",
   "execution_count": 14,
   "metadata": {
    "vscode": {
     "languageId": "java"
    }
   },
   "outputs": [
    {
     "name": "stdout",
     "output_type": "stream",
     "text": [
      "kiwi\n"
     ]
    }
   ],
   "source": [
    "import java.util.ArrayList; //import array list class\n",
    "\n",
    "public class Main {\n",
    "  public static void main(String[] args) {\n",
    "    ArrayList<String> fruits = new ArrayList<String>();\n",
    "    fruits.add(\"grapes\");\n",
    "    fruits.add(\"strawberries\");\n",
    "    fruits.add(\"blueberries\");\n",
    "    fruits.add(\"kiwi\");\n",
    "    fruits.add(\"watermelon\");\n",
    "    System.out.println(fruits.get(3));\n",
    "  }\n",
    "}\n",
    "\n",
    "Main.main(null)"
   ]
  },
  {
   "cell_type": "markdown",
   "metadata": {},
   "source": [
    "## Modify ArrayList Elements\n",
    "> use set() method"
   ]
  },
  {
   "cell_type": "code",
   "execution_count": 16,
   "metadata": {
    "vscode": {
     "languageId": "java"
    }
   },
   "outputs": [
    {
     "name": "stdout",
     "output_type": "stream",
     "text": [
      "ArrayList: [grapes, strawberries, blueberries, kiwi, watermelon]\n",
      "Modified ArrayList: [grapes, strawberries, pineapple, kiwi, watermelon]\n"
     ]
    }
   ],
   "source": [
    "import java.util.ArrayList; //import array list class\n",
    "\n",
    "public class Main {\n",
    "  public static void main(String[] args) {\n",
    "    ArrayList<String> fruits = new ArrayList<String>();\n",
    "\n",
    "    // add elements in the array list\n",
    "    fruits.add(\"grapes\");\n",
    "    fruits.add(\"strawberries\");\n",
    "    fruits.add(\"blueberries\");\n",
    "    fruits.add(\"kiwi\");\n",
    "    fruits.add(\"watermelon\");\n",
    "    System.out.println(\"ArrayList: \" + fruits);\n",
    "\n",
    "    // change the element of the array list\n",
    "    fruits.set(2, \"pineapple\");\n",
    "    System.out.println(\"Modified ArrayList: \" + fruits);\n",
    "  }\n",
    "}\n",
    "Main.main(null)"
   ]
  },
  {
   "cell_type": "markdown",
   "metadata": {},
   "source": [
    "## Delete ArrayList Elements\n",
    "> use remove() method"
   ]
  },
  {
   "cell_type": "code",
   "execution_count": 17,
   "metadata": {
    "vscode": {
     "languageId": "java"
    }
   },
   "outputs": [
    {
     "name": "stdout",
     "output_type": "stream",
     "text": [
      "ArrayList: [grapes, strawberries, blueberries, kiwi, watermelon]\n",
      "Modified ArrayList: [grapes, strawberries, kiwi, watermelon]\n"
     ]
    }
   ],
   "source": [
    "import java.util.ArrayList; //import array list class\n",
    "\n",
    "public class Main {\n",
    "  public static void main(String[] args) {\n",
    "    ArrayList<String> fruits = new ArrayList<String>();\n",
    "\n",
    "    // add elements in the array list\n",
    "    fruits.add(\"grapes\");\n",
    "    fruits.add(\"strawberries\");\n",
    "    fruits.add(\"blueberries\");\n",
    "    fruits.add(\"kiwi\");\n",
    "    fruits.add(\"watermelon\");\n",
    "    System.out.println(\"ArrayList: \" + fruits);\n",
    "\n",
    "    // change the element of the array list\n",
    "    fruits.remove(2);\n",
    "    System.out.println(\"Modified ArrayList: \" + fruits);\n",
    "  }\n",
    "}\n",
    "Main.main(null)"
   ]
  }
 ],
 "metadata": {
  "kernelspec": {
   "display_name": "Java",
   "language": "java",
   "name": "java"
  },
  "language_info": {
   "codemirror_mode": "java",
   "file_extension": ".jshell",
   "mimetype": "text/x-java-source",
   "name": "Java",
   "pygments_lexer": "java",
   "version": "11.0.16+8-post-Ubuntu-0ubuntu120.04"
  },
  "orig_nbformat": 4
 },
 "nbformat": 4,
 "nbformat_minor": 2
}
