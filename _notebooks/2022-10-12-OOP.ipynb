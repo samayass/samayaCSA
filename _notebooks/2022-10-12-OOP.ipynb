{
 "cells": [
  {
   "cell_type": "markdown",
   "metadata": {},
   "source": [
    "# OOP Student Lesson\n",
    "> OOP\n",
    "\n",
    "- title: OOP Student Lesson\n",
    "- toc: false\n",
    "- comments: false\n",
    "- categories: [jupyter]"
   ]
  },
  {
   "cell_type": "markdown",
   "metadata": {},
   "source": [
    "## What is OOP\n",
    "- OOP is object oriented programming\n",
    "- programming pardigm centered around objects\n",
    "\n",
    "## Classes and Objects\n",
    "- classes are templates or a blueprint, contatin data\n",
    "- objects are instances of a class, need to be instantiated\n",
    "- methods are functions of a class\n",
    "- Method Declaration consists of 6 components: Access modifer, Return type, Method name, Parameter list, Exception list, Method body\n",
    "- Calling a method allows for code reuse, optimization, and organization To call an object's method you have to make an object reference"
   ]
  },
  {
   "cell_type": "markdown",
   "metadata": {},
   "source": [
    "HW \n",
    "> Goblin Game"
   ]
  }
 ],
 "metadata": {
  "language_info": {
   "name": "python"
  },
  "orig_nbformat": 4
 },
 "nbformat": 4,
 "nbformat_minor": 2
}
