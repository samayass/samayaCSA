{
 "cells": [
  {
   "cell_type": "markdown",
   "metadata": {},
   "source": [
    "# API Java Jupyter Notebook\n",
    "> Display API data\n",
    "\n",
    "- title: Java API Jupyter Notebook\n",
    "- toc: false\n",
    "- comments: true\n",
    "- categories: [jupyter]"
   ]
  },
  {
   "cell_type": "code",
   "execution_count": 2,
   "metadata": {
    "vscode": {
     "languageId": "java"
    }
   },
   "outputs": [],
   "source": [
    "%%loadFromPOM\n",
    "<dependency>\n",
    "    <groupId>org.json</groupId>\n",
    "    <artifactId>json</artifactId>\n",
    "    <version>20180813</version>\n",
    "</dependency>\n",
    "<dependency>\n",
    "    <groupId>com.googlecode.json-simple</groupId>\n",
    "    <artifactId>json-simple</artifactId>\n",
    "    <version>1.1.1</version>\n",
    "</dependency>"
   ]
  },
  {
   "cell_type": "code",
   "execution_count": 3,
   "metadata": {
    "vscode": {
     "languageId": "java"
    }
   },
   "outputs": [
    {
     "name": "stdout",
     "output_type": "stream",
     "text": [
      "{\"data\":[{\"division\":\"Southeast\",\"conference\":\"East\",\"full_name\":\"Atlanta Hawks\",\"city\":\"Atlanta\",\"name\":\"Hawks\",\"id\":1,\"abbreviation\":\"ATL\"},{\"division\":\"Atlantic\",\"conference\":\"East\",\"full_name\":\"Boston Celtics\",\"city\":\"Boston\",\"name\":\"Celtics\",\"id\":2,\"abbreviation\":\"BOS\"},{\"division\":\"Atlantic\",\"conference\":\"East\",\"full_name\":\"Brooklyn Nets\",\"city\":\"Brooklyn\",\"name\":\"Nets\",\"id\":3,\"abbreviation\":\"BKN\"},{\"division\":\"Southeast\",\"conference\":\"East\",\"full_name\":\"Charlotte Hornets\",\"city\":\"Charlotte\",\"name\":\"Hornets\",\"id\":4,\"abbreviation\":\"CHA\"},{\"division\":\"Central\",\"conference\":\"East\",\"full_name\":\"Chicago Bulls\",\"city\":\"Chicago\",\"name\":\"Bulls\",\"id\":5,\"abbreviation\":\"CHI\"},{\"division\":\"Central\",\"conference\":\"East\",\"full_name\":\"Cleveland Cavaliers\",\"city\":\"Cleveland\",\"name\":\"Cavaliers\",\"id\":6,\"abbreviation\":\"CLE\"},{\"division\":\"Southwest\",\"conference\":\"West\",\"full_name\":\"Dallas Mavericks\",\"city\":\"Dallas\",\"name\":\"Mavericks\",\"id\":7,\"abbreviation\":\"DAL\"},{\"division\":\"Northwest\",\"conference\":\"West\",\"full_name\":\"Denver Nuggets\",\"city\":\"Denver\",\"name\":\"Nuggets\",\"id\":8,\"abbreviation\":\"DEN\"},{\"division\":\"Central\",\"conference\":\"East\",\"full_name\":\"Detroit Pistons\",\"city\":\"Detroit\",\"name\":\"Pistons\",\"id\":9,\"abbreviation\":\"DET\"},{\"division\":\"Pacific\",\"conference\":\"West\",\"full_name\":\"Golden State Warriors\",\"city\":\"Golden State\",\"name\":\"Warriors\",\"id\":10,\"abbreviation\":\"GSW\"},{\"division\":\"Southwest\",\"conference\":\"West\",\"full_name\":\"Houston Rockets\",\"city\":\"Houston\",\"name\":\"Rockets\",\"id\":11,\"abbreviation\":\"HOU\"},{\"division\":\"Central\",\"conference\":\"East\",\"full_name\":\"Indiana Pacers\",\"city\":\"Indiana\",\"name\":\"Pacers\",\"id\":12,\"abbreviation\":\"IND\"},{\"division\":\"Pacific\",\"conference\":\"West\",\"full_name\":\"LA Clippers\",\"city\":\"LA\",\"name\":\"Clippers\",\"id\":13,\"abbreviation\":\"LAC\"},{\"division\":\"Pacific\",\"conference\":\"West\",\"full_name\":\"Los Angeles Lakers\",\"city\":\"Los Angeles\",\"name\":\"Lakers\",\"id\":14,\"abbreviation\":\"LAL\"},{\"division\":\"Southwest\",\"conference\":\"West\",\"full_name\":\"Memphis Grizzlies\",\"city\":\"Memphis\",\"name\":\"Grizzlies\",\"id\":15,\"abbreviation\":\"MEM\"},{\"division\":\"Southeast\",\"conference\":\"East\",\"full_name\":\"Miami Heat\",\"city\":\"Miami\",\"name\":\"Heat\",\"id\":16,\"abbreviation\":\"MIA\"},{\"division\":\"Central\",\"conference\":\"East\",\"full_name\":\"Milwaukee Bucks\",\"city\":\"Milwaukee\",\"name\":\"Bucks\",\"id\":17,\"abbreviation\":\"MIL\"},{\"division\":\"Northwest\",\"conference\":\"West\",\"full_name\":\"Minnesota Timberwolves\",\"city\":\"Minnesota\",\"name\":\"Timberwolves\",\"id\":18,\"abbreviation\":\"MIN\"},{\"division\":\"Southwest\",\"conference\":\"West\",\"full_name\":\"New Orleans Pelicans\",\"city\":\"New Orleans\",\"name\":\"Pelicans\",\"id\":19,\"abbreviation\":\"NOP\"},{\"division\":\"Atlantic\",\"conference\":\"East\",\"full_name\":\"New York Knicks\",\"city\":\"New York\",\"name\":\"Knicks\",\"id\":20,\"abbreviation\":\"NYK\"},{\"division\":\"Northwest\",\"conference\":\"West\",\"full_name\":\"Oklahoma City Thunder\",\"city\":\"Oklahoma City\",\"name\":\"Thunder\",\"id\":21,\"abbreviation\":\"OKC\"},{\"division\":\"Southeast\",\"conference\":\"East\",\"full_name\":\"Orlando Magic\",\"city\":\"Orlando\",\"name\":\"Magic\",\"id\":22,\"abbreviation\":\"ORL\"},{\"division\":\"Atlantic\",\"conference\":\"East\",\"full_name\":\"Philadelphia 76ers\",\"city\":\"Philadelphia\",\"name\":\"76ers\",\"id\":23,\"abbreviation\":\"PHI\"},{\"division\":\"Pacific\",\"conference\":\"West\",\"full_name\":\"Phoenix Suns\",\"city\":\"Phoenix\",\"name\":\"Suns\",\"id\":24,\"abbreviation\":\"PHX\"},{\"division\":\"Northwest\",\"conference\":\"West\",\"full_name\":\"Portland Trail Blazers\",\"city\":\"Portland\",\"name\":\"Trail Blazers\",\"id\":25,\"abbreviation\":\"POR\"},{\"division\":\"Pacific\",\"conference\":\"West\",\"full_name\":\"Sacramento Kings\",\"city\":\"Sacramento\",\"name\":\"Kings\",\"id\":26,\"abbreviation\":\"SAC\"},{\"division\":\"Southwest\",\"conference\":\"West\",\"full_name\":\"San Antonio Spurs\",\"city\":\"San Antonio\",\"name\":\"Spurs\",\"id\":27,\"abbreviation\":\"SAS\"},{\"division\":\"Atlantic\",\"conference\":\"East\",\"full_name\":\"Toronto Raptors\",\"city\":\"Toronto\",\"name\":\"Raptors\",\"id\":28,\"abbreviation\":\"TOR\"},{\"division\":\"Northwest\",\"conference\":\"West\",\"full_name\":\"Utah Jazz\",\"city\":\"Utah\",\"name\":\"Jazz\",\"id\":29,\"abbreviation\":\"UTA\"},{\"division\":\"Southeast\",\"conference\":\"East\",\"full_name\":\"Washington Wizards\",\"city\":\"Washington\",\"name\":\"Wizards\",\"id\":30,\"abbreviation\":\"WAS\"}],\"meta\":{\"next_page\":null,\"per_page\":30,\"total_count\":30,\"total_pages\":1,\"current_page\":1}}\n"
     ]
    }
   ],
   "source": [
    "import org.json.simple.JSONObject;\n",
    "import org.json.simple.JSONValue;\n",
    "import org.json.simple.parser.JSONParser;\n",
    "\n",
    "\n",
    "import java.net.URI;\n",
    "import java.net.http.HttpClient;\n",
    "import java.net.http.HttpRequest;\n",
    "import java.net.http.HttpResponse;\n",
    "\n",
    "\n",
    "    HttpRequest request = HttpRequest.newBuilder()\n",
    "\t\t.uri(URI.create(\"https://free-nba.p.rapidapi.com/teams?page=0\"))\n",
    "\t\t.header(\"X-RapidAPI-Key\", \"9f4648d091mshd482eecf7cc5dcfp1c3796jsn99cec5dc67e0\")\n",
    "\t\t.header(\"X-RapidAPI-Host\", \"free-nba.p.rapidapi.com\")\n",
    "\t\t.method(\"GET\", HttpRequest.BodyPublishers.noBody())\n",
    "\t\t.build();\n",
    "    HttpResponse<String> response = HttpClient.newHttpClient().send(request, HttpResponse.BodyHandlers.ofString());\n",
    "\n",
    "    Object obj = new JSONParser().parse(response.body());\n",
    "            JSONObject jobject = (JSONObject) obj;\n",
    "            System.out.println(jobject);\n",
    "    \n",
    "\n",
    "\n"
   ]
  }
 ],
 "metadata": {
  "kernelspec": {
   "display_name": "Java",
   "language": "java",
   "name": "java"
  },
  "language_info": {
   "codemirror_mode": "java",
   "file_extension": ".jshell",
   "mimetype": "text/x-java-source",
   "name": "Java",
   "pygments_lexer": "java",
   "version": "11.0.16+8-post-Ubuntu-0ubuntu120.04"
  },
  "orig_nbformat": 4
 },
 "nbformat": 4,
 "nbformat_minor": 2
}
