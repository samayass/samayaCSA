{
 "cells": [
  {
   "cell_type": "code",
   "execution_count": 41,
   "metadata": {
    "vscode": {
     "languageId": "java"
    }
   },
   "outputs": [
    {
     "name": "stdout",
     "output_type": "stream",
     "text": [
      "{\"data\":[{\"id\":1,\"abbreviation\":\"ATL\",\"city\":\"Atlanta\",\"conference\":\"East\",\"division\":\"Southeast\",\"full_name\":\"Atlanta Hawks\",\"name\":\"Hawks\"},{\"id\":2,\"abbreviation\":\"BOS\",\"city\":\"Boston\",\"conference\":\"East\",\"division\":\"Atlantic\",\"full_name\":\"Boston Celtics\",\"name\":\"Celtics\"},{\"id\":3,\"abbreviation\":\"BKN\",\"city\":\"Brooklyn\",\"conference\":\"East\",\"division\":\"Atlantic\",\"full_name\":\"Brooklyn Nets\",\"name\":\"Nets\"},{\"id\":4,\"abbreviation\":\"CHA\",\"city\":\"Charlotte\",\"conference\":\"East\",\"division\":\"Southeast\",\"full_name\":\"Charlotte Hornets\",\"name\":\"Hornets\"},{\"id\":5,\"abbreviation\":\"CHI\",\"city\":\"Chicago\",\"conference\":\"East\",\"division\":\"Central\",\"full_name\":\"Chicago Bulls\",\"name\":\"Bulls\"},{\"id\":6,\"abbreviation\":\"CLE\",\"city\":\"Cleveland\",\"conference\":\"East\",\"division\":\"Central\",\"full_name\":\"Cleveland Cavaliers\",\"name\":\"Cavaliers\"},{\"id\":7,\"abbreviation\":\"DAL\",\"city\":\"Dallas\",\"conference\":\"West\",\"division\":\"Southwest\",\"full_name\":\"Dallas Mavericks\",\"name\":\"Mavericks\"},{\"id\":8,\"abbreviation\":\"DEN\",\"city\":\"Denver\",\"conference\":\"West\",\"division\":\"Northwest\",\"full_name\":\"Denver Nuggets\",\"name\":\"Nuggets\"},{\"id\":9,\"abbreviation\":\"DET\",\"city\":\"Detroit\",\"conference\":\"East\",\"division\":\"Central\",\"full_name\":\"Detroit Pistons\",\"name\":\"Pistons\"},{\"id\":10,\"abbreviation\":\"GSW\",\"city\":\"Golden State\",\"conference\":\"West\",\"division\":\"Pacific\",\"full_name\":\"Golden State Warriors\",\"name\":\"Warriors\"},{\"id\":11,\"abbreviation\":\"HOU\",\"city\":\"Houston\",\"conference\":\"West\",\"division\":\"Southwest\",\"full_name\":\"Houston Rockets\",\"name\":\"Rockets\"},{\"id\":12,\"abbreviation\":\"IND\",\"city\":\"Indiana\",\"conference\":\"East\",\"division\":\"Central\",\"full_name\":\"Indiana Pacers\",\"name\":\"Pacers\"},{\"id\":13,\"abbreviation\":\"LAC\",\"city\":\"LA\",\"conference\":\"West\",\"division\":\"Pacific\",\"full_name\":\"LA Clippers\",\"name\":\"Clippers\"},{\"id\":14,\"abbreviation\":\"LAL\",\"city\":\"Los Angeles\",\"conference\":\"West\",\"division\":\"Pacific\",\"full_name\":\"Los Angeles Lakers\",\"name\":\"Lakers\"},{\"id\":15,\"abbreviation\":\"MEM\",\"city\":\"Memphis\",\"conference\":\"West\",\"division\":\"Southwest\",\"full_name\":\"Memphis Grizzlies\",\"name\":\"Grizzlies\"},{\"id\":16,\"abbreviation\":\"MIA\",\"city\":\"Miami\",\"conference\":\"East\",\"division\":\"Southeast\",\"full_name\":\"Miami Heat\",\"name\":\"Heat\"},{\"id\":17,\"abbreviation\":\"MIL\",\"city\":\"Milwaukee\",\"conference\":\"East\",\"division\":\"Central\",\"full_name\":\"Milwaukee Bucks\",\"name\":\"Bucks\"},{\"id\":18,\"abbreviation\":\"MIN\",\"city\":\"Minnesota\",\"conference\":\"West\",\"division\":\"Northwest\",\"full_name\":\"Minnesota Timberwolves\",\"name\":\"Timberwolves\"},{\"id\":19,\"abbreviation\":\"NOP\",\"city\":\"New Orleans\",\"conference\":\"West\",\"division\":\"Southwest\",\"full_name\":\"New Orleans Pelicans\",\"name\":\"Pelicans\"},{\"id\":20,\"abbreviation\":\"NYK\",\"city\":\"New York\",\"conference\":\"East\",\"division\":\"Atlantic\",\"full_name\":\"New York Knicks\",\"name\":\"Knicks\"},{\"id\":21,\"abbreviation\":\"OKC\",\"city\":\"Oklahoma City\",\"conference\":\"West\",\"division\":\"Northwest\",\"full_name\":\"Oklahoma City Thunder\",\"name\":\"Thunder\"},{\"id\":22,\"abbreviation\":\"ORL\",\"city\":\"Orlando\",\"conference\":\"East\",\"division\":\"Southeast\",\"full_name\":\"Orlando Magic\",\"name\":\"Magic\"},{\"id\":23,\"abbreviation\":\"PHI\",\"city\":\"Philadelphia\",\"conference\":\"East\",\"division\":\"Atlantic\",\"full_name\":\"Philadelphia 76ers\",\"name\":\"76ers\"},{\"id\":24,\"abbreviation\":\"PHX\",\"city\":\"Phoenix\",\"conference\":\"West\",\"division\":\"Pacific\",\"full_name\":\"Phoenix Suns\",\"name\":\"Suns\"},{\"id\":25,\"abbreviation\":\"POR\",\"city\":\"Portland\",\"conference\":\"West\",\"division\":\"Northwest\",\"full_name\":\"Portland Trail Blazers\",\"name\":\"Trail Blazers\"},{\"id\":26,\"abbreviation\":\"SAC\",\"city\":\"Sacramento\",\"conference\":\"West\",\"division\":\"Pacific\",\"full_name\":\"Sacramento Kings\",\"name\":\"Kings\"},{\"id\":27,\"abbreviation\":\"SAS\",\"city\":\"San Antonio\",\"conference\":\"West\",\"division\":\"Southwest\",\"full_name\":\"San Antonio Spurs\",\"name\":\"Spurs\"},{\"id\":28,\"abbreviation\":\"TOR\",\"city\":\"Toronto\",\"conference\":\"East\",\"division\":\"Atlantic\",\"full_name\":\"Toronto Raptors\",\"name\":\"Raptors\"},{\"id\":29,\"abbreviation\":\"UTA\",\"city\":\"Utah\",\"conference\":\"West\",\"division\":\"Northwest\",\"full_name\":\"Utah Jazz\",\"name\":\"Jazz\"},{\"id\":30,\"abbreviation\":\"WAS\",\"city\":\"Washington\",\"conference\":\"East\",\"division\":\"Southeast\",\"full_name\":\"Washington Wizards\",\"name\":\"Wizards\"}],\"meta\":{\"total_pages\":1,\"current_page\":1,\"next_page\":null,\"per_page\":30,\"total_count\":30}}\n"
     ]
    }
   ],
   "source": [
    "import java.net.URI;\n",
    "import java.net.http.HttpClient;\n",
    "import java.net.http.HttpRequest;\n",
    "import java.net.http.HttpResponse;\n",
    "\n",
    "\n",
    "HttpRequest request = HttpRequest.newBuilder()\n",
    "\t\t.uri(URI.create(\"https://free-nba.p.rapidapi.com/teams?page=0\"))\n",
    "\t\t.header(\"X-RapidAPI-Key\", \"9f4648d091mshd482eecf7cc5dcfp1c3796jsn99cec5dc67e0\")\n",
    "\t\t.header(\"X-RapidAPI-Host\", \"free-nba.p.rapidapi.com\")\n",
    "\t\t.method(\"GET\", HttpRequest.BodyPublishers.noBody())\n",
    "\t\t.build();\n",
    "HttpResponse<String> response = HttpClient.newHttpClient().send(request, HttpResponse.BodyHandlers.ofString());\n",
    "System.out.println(response.body());\n",
    "\n",
    "\n",
    "\n",
    "\n",
    "\n"
   ]
  },
  {
   "cell_type": "code",
   "execution_count": 33,
   "metadata": {
    "vscode": {
     "languageId": "java"
    }
   },
   "outputs": [],
   "source": [
    "// Packages to import\n",
    "import javax.swing.JFrame;\n",
    "import javax.swing.JScrollPane;\n",
    "import javax.swing.JTable;\n",
    "\n",
    "public class JTableExamples {\n",
    "\t// frame\n",
    "\tJFrame f;\n",
    "\t// Table\n",
    "\tJTable j;\n",
    "\n",
    "\t// Constructor\n",
    "\tJTableExamples()\n",
    "\t{\n",
    "\t\t// Frame initialization\n",
    "\t\tf = new JFrame();\n",
    "\n",
    "\t\t// Frame Title\n",
    "\t\tf.setTitle(\"JTable Example\");\n",
    "\n",
    "\t\t// Data to be displayed in the JTable\n",
    "\t\tString[][] data = {\n",
    "\t\t\t{ \"Kundan Kumar Jha\", \"4031\", \"CSE\" },\n",
    "\t\t\t{ \"Anand Jha\", \"6014\", \"IT\" }\n",
    "\t\t};\n",
    "\n",
    "\t\t// Column Names\n",
    "\t\tString[] columnNames = { \"Name\", \"Roll Number\", \"Department\" };\n",
    "\n",
    "\t\t// Initializing the JTable\n",
    "\t\tj = new JTable(data, columnNames);\n",
    "\t\tj.setBounds(30, 40, 200, 300);\n",
    "\n",
    "\t\t// adding it to JScrollPane\n",
    "\t\tJScrollPane sp = new JScrollPane(j);\n",
    "\t\tf.add(sp);\n",
    "\t\t// Frame Size\n",
    "\t\tf.setSize(500, 200);\n",
    "\t\t// Frame Visible = true\n",
    "\t\tf.setVisible(true);\n",
    "\t}\n",
    "\n",
    "\t// Driver method\n",
    "\tpublic static void main(String[] args)\n",
    "\t{\n",
    "\t\tnew JTableExamples();\n",
    "\t}\n",
    "}\n"
   ]
  }
 ],
 "metadata": {
  "kernelspec": {
   "display_name": "Java",
   "language": "java",
   "name": "java"
  },
  "language_info": {
   "codemirror_mode": "java",
   "file_extension": ".jshell",
   "mimetype": "text/x-java-source",
   "name": "Java",
   "pygments_lexer": "java",
   "version": "11.0.16+8-post-Ubuntu-0ubuntu120.04"
  },
  "orig_nbformat": 4
 },
 "nbformat": 4,
 "nbformat_minor": 2
}
