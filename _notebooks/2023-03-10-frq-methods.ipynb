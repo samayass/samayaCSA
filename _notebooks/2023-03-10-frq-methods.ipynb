{
 "cells": [
  {
   "attachments": {},
   "cell_type": "markdown",
   "metadata": {},
   "source": [
    "# FRQ 2021 - Methods and Control Structures\n",
    "> FRQ 2021\n",
    "\n",
    "- title: FRQ 2021\n",
    "- toc: false\n",
    "- comments: false\n",
    "- categories: [tri3]"
   ]
  },
  {
   "cell_type": "code",
   "execution_count": 108,
   "metadata": {
    "vscode": {
     "languageId": "java"
    }
   },
   "outputs": [
    {
     "name": "stdout",
     "output_type": "stream",
     "text": [
      "Score for i is 4\n",
      "The better guess is between iss and issipp is: issipp\n"
     ]
    }
   ],
   "source": [
    "public class WordMatch {\n",
    "\n",
    "    private String secret; // declaring variable secret \n",
    "\n",
    "    public WordMatch (String secret) { // constructs WordMatch object with secret string\n",
    "        this.secret = secret;\n",
    "    }\n",
    "\n",
    "    public void setSecret(String secret) { // sets the secret value\n",
    "        this.secret = secret;\n",
    "    }\n",
    "\n",
    "    public int scoreGuess(String guess) { \n",
    "\n",
    "        // testing use of control structures which in this case is a for loop\n",
    "        // make sure that the condition inside the for loop is possible to be executed and has the right condition to make the code function properly\n",
    "\n",
    "        int count = 0; \n",
    "\n",
    "        for (int i = 0; i < secret.length(); i++) { // looping over the whole secret not guess\n",
    "            if (secret.substring(i).indexOf(guess) == 0) { // start at 0 index and as i increases if index of guess is at the beginning of substring\n",
    "                count++; // , then increment count by 1 \n",
    "            }\n",
    "        }\n",
    "\n",
    "        return count * guess.length() * guess.length(); // return the score which is how many times guess appeared in secret and multiply by square of length of guess\n",
    "    }\n",
    "\n",
    "    public String findBetterGuess (String guess1, String guess2) { \n",
    "        \n",
    "        // this is using the method of scoreGuess above and is inputing guess1 and guess2 into scoreGuess to check which has the higher \n",
    "        // this is methods and control structures because the frq is testing that you know when to use and how to call methods to help advance your code and make it function properly\n",
    "\n",
    "        if (scoreGuess(guess1) > scoreGuess(guess2)) { // if the score of guess1 is greater than score of guess2 \n",
    "            return guess1; // then guess 1 is the better guess\n",
    "        }\n",
    "        if (scoreGuess(guess1) < scoreGuess(guess2)) { // if the score of guess1 is less than score of guess2 \n",
    "            return guess2; // then guess 2 is the better guess\n",
    "        }\n",
    "        if (guess2.compareTo(guess1) > 0) { // compare guess1 and guess2 and the alphabetically greater one is returned\n",
    "            return guess2;\n",
    "        }\n",
    "        return guess1;\n",
    "    }\n",
    "\n",
    "    public static void main(String args[]) {  \n",
    "\n",
    "        Scanner sc = new Scanner(System.in);\n",
    "\n",
    "        // System.out.println(\"Enter a guess: \");\n",
    "        String guess = sc.nextLine();\n",
    "\n",
    "        String secret = \"mississippi\";\n",
    "        WordMatch wordMatch = new WordMatch(secret);\n",
    "\n",
    "        int score = wordMatch.scoreGuess(guess);\n",
    "        System.out.println(\"Score for \" + guess + \" is \" + score);\n",
    "\n",
    "        // System.out.println(\"Enter another guess: \" +);\n",
    "        String guess1 = sc.nextLine();\n",
    "\n",
    "        // System.out.println(\"Enter another guess: \" +);\n",
    "        String guess2 = sc.nextLine();\n",
    "\n",
    "        String compare = wordMatch.findBetterGuess(guess1, guess2);\n",
    "        System.out.println(\"The better guess is between \" + guess1 + \" and \" + guess2 + \" is: \" + compare);\n",
    "\n",
    "        sc.close();\n",
    "    }\n",
    "}\n",
    "\n",
    "WordMatch.main(null)"
   ]
  }
 ],
 "metadata": {
  "kernelspec": {
   "display_name": "Java",
   "language": "java",
   "name": "java"
  },
  "language_info": {
   "codemirror_mode": "java",
   "file_extension": ".jshell",
   "mimetype": "text/x-java-source",
   "name": "Java",
   "pygments_lexer": "java",
   "version": "11.0.16+8-post-Ubuntu-0ubuntu120.04"
  },
  "orig_nbformat": 4
 },
 "nbformat": 4,
 "nbformat_minor": 2
}
