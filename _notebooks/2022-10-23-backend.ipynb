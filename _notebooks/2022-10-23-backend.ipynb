{
 "cells": [
  {
   "cell_type": "markdown",
   "metadata": {},
   "source": [
    "# Backend Video\n",
    "> Backend\n",
    "\n",
    "- title: Backend Video\n",
    "- toc: false\n",
    "- comments: false\n",
    "- categories: [jupyter]"
   ]
  },
  {
   "cell_type": "markdown",
   "metadata": {},
   "source": [
    "## Develop data, data types, databases, and APIs\n",
    "- We plan on using:\n",
    "    - APIs\n",
    "    - Databases\n",
    "    - Arraylists\n",
    "    - Lists\n",
    "\n",
    "## Identify authoring tools (IDE’s, Postman) used\n",
    "- VS code as the IDE \n",
    "- Postman is used to test APIs\n",
    "\n",
    "## Describe and/or illustrate key data types, data structures (Lists, Dictionaries), objects, files, or databases that will be used (Flow Chart/UML)\n",
    "- [Flow chart](https://www.figma.com/proto/ju6Y9KDk1e5D1Mm8VpJUNg/GrapeSnails?node-id=754%3A2&scaling=min-zoom&page-id=0%3A1)\n"
   ]
  }
 ],
 "metadata": {
  "language_info": {
   "name": "python"
  },
  "orig_nbformat": 4
 },
 "nbformat": 4,
 "nbformat_minor": 2
}
