{
 "cells": [
  {
   "attachments": {},
   "cell_type": "markdown",
   "metadata": {},
   "source": [
    "### **Total: 19/20**\n",
    "\n",
    "| Items                                     | Self Score | Person 1 (Shreya) | Person 2 (Adi) |  Average  |\n",
    "|-------------------------------------------|------------|------------------------------|--------------------------|-----------|\n",
    "| N@tM Attendance                           | 1          | 1                            |   1                       |   1        |\n",
    "| N@tM Capture the Moment                   | 1          | 1                            | 1                         |   1        |\n",
    "|[Frontend Team Presentation](https://sarayu-pr11.github.io/tri2_pbl/)              | 1          | 1                            |    1                      |   1        |\n",
    "| FE/BE Debugging                           | 0.5        | 0.5                          |  0.5                        |  0.5         |\n",
    "| Cross Domain                              | 0.5        | 0.5                          |  0.5                        |   0.5       |\n",
    "| JWT                                       | 0.5        | 0.5                          |   0.5                       |  0.5         |\n",
    "| Database                                  | 0.5        | 0.5                          |      0.5                    |   0.5        |\n",
    "| Project Quality                           | 1          | 1                            |       1                   |  1         |\n",
    "|[UI with Inputs](https://sarayu-pr11.github.io/tri2_pbl/planner)                            | 1          | 1                            |         1                 |1|\n",
    "| [Create and Read](https://sarayu-pr11.github.io/tri2_pbl/planner)                          | 1          | 1                            |       1                   |  1         |\n",
    "| [Update and Delete](https://sarayu-pr11.github.io/tri2_pbl/planner)                        | 0          | 0                            |      0                    |   0        |\n",
    "| Cookies JWT                               | 1          | 1                            |        1                  |    1       |\n",
    "| Code Quality                              | 1          | 1                            |        1                  |     1      |\n",
    "| [Error Handling](https://github.com/sarayu-pr11/tri2_pbl/blob/gh-pages/planner1.md)                           | 1          | 1                            |       1                   |      1     |\n",
    "| [GET/POST Methods](https://github.com/CalrethonOfMirkwood/pbl_backend/blob/599c45290ac7afeb25c4b356db7f5cd94fc11445/src/main/java/com/nighthawk/spring_portfolio/mvc/planner/PlannerController.java#L26)                          | 1          | 1                            |     1                     |     1      |\n",
    "| [Backend Create/Read](https://github.com/CalrethonOfMirkwood/pbl_backend/blob/599c45290ac7afeb25c4b356db7f5cd94fc11445/src/main/java/com/nighthawk/spring_portfolio/mvc/planner/PlannerController.java#L26)                       | 1          | 1                            |     1                     |       1    |\n",
    "| [Backend Update/Delete](https://github.com/CalrethonOfMirkwood/pbl_backend/blob/599c45290ac7afeb25c4b356db7f5cd94fc11445/src/main/java/com/nighthawk/spring_portfolio/mvc/planner/PlannerController.java#L45)                     | 1          | 1                            |      1                    |      1     |\n",
    "| Purpose/Theme/Quality                     | 0.5        | 0.5                          |     0.5                     |   0.5        |\n",
    "| Video                                     | 0          | 0                            |    0                      |   0        |\n",
    "| Runtime Links ([csatri.tk](https://csatri1.tk/, [Yumi](https://sarayu-pr11.github.io/tri2_pbl/))                             | 0.5        | 0.5                          |   0.5                       |   0.5        |\n",
    "| README.md                                 | 0.5        | 0.5                          |    0.5                      |   0.5        |\n",
    "| Blog and Guides for Review                | 0          | 0                            |    0                      |   0        |\n",
    "| 75% Full Stack                            | 0.5        | 0.5                          | 0.5                         |   0.5        |\n",
    "| Individual Review Ticket                  | 0.5        | 0.5                          |    0.5                      |  0.5         |\n",
    "| Runtime Links                             | 0.5        | 0.5                          |    0.5                      |   0.5        |\n",
    "| Technical Accomplishments                 | 0.5        | 0.5                          |        0.5                  |    0.5       |\n",
    "| [Blog and Guides for Review](https://samayass.github.io/samayaCSA/2023/02/27/review.html)                | 0.5        | 0.5                          |         0.5                 |    0.5       |\n",
    "| Meeting Full Stack and Backend Objectives | 0.5        | 0.5                          |   0.5                       |    0.5       |\n",
    "| GitHub Analytics ([Backend](https://github.com/CalrethonOfMirkwood/pbl_backend/graphs/contributors), [Frontend](https://github.com/sarayu-pr11/tri2_pbl/graphs/contributors))                          | 0.5        | 0.5                          |   0.5                       |    0.5       |"
   ]
  }
 ],
 "metadata": {
  "language_info": {
   "name": "python"
  },
  "orig_nbformat": 4
 },
 "nbformat": 4,
 "nbformat_minor": 2
}
