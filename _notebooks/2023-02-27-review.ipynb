{
 "cells": [
  {
   "attachments": {},
   "cell_type": "markdown",
   "metadata": {},
   "source": [
    "### **Total: 19/20**\n",
    "\n",
    "| Items                                     | Self Score | Person 1 (Shreya) | Person 2 (Adi) |  Average  |\n",
    "|-------------------------------------------|------------|------------------------------|--------------------------|-----------|\n",
    "| N@tM Attendance                           | 1          | 1                            |   1                       |   1        |\n",
    "| N@tM Capture the Moment                   | 1          | 1                            | 1                         |   1        |\n",
    "| Frontend Team Presentation                | 1          | 1                            |    1                      |   1        |\n",
    "| FE/BE Debugging                           | 0.5        | 0.5                          |  0.5                        |  0.5         |\n",
    "| Cross Domain                              | 0.5        | 0.5                          |  0.5                        |   0.5       |\n",
    "| JWT                                       | 0.5        | 0.5                          |   0.5                       |  0.5         |\n",
    "| Database                                  | 0.5        | 0.5                          |      0.5                    |   0.5        |\n",
    "| Project Quality                           | 1          | 1                            |       1                   |  1         |\n",
    "| UI with Inputs                            | 1          | 1                            |         1                 |1|\n",
    "| Create and Read                           | 1          | 1                            |       1                   |  1         |\n",
    "| Update and Delete                         | 0          | 0                            |      0                    |   0        |\n",
    "| Cookies JWT                               | 1          | 1                            |        1                  |    1       |\n",
    "| Code Quality                              | 1          | 1                            |        1                  |     1      |\n",
    "| Error Handling                            | 1          | 1                            |       1                   |      1     |\n",
    "| GET/POST Methods                          | 1          | 1                            |     1                     |     1      |\n",
    "| Backend Create/Read                       | 1          | 1                            |     1                     |       1    |\n",
    "| Backend Update/Delete                     | 1          | 1                            |      1                    |      1     |\n",
    "| Purpose/Theme/Quality                     | 0.5        | 0.5                          |     0.5                     |   0.5        |\n",
    "| Video                                     | 0          | 0                            |    0                      |   0        |\n",
    "| Runtime Links                             | 0.5        | 0.5                          |   0.5                       |   0.5        |\n",
    "| README.md                                 | 0.5        | 0.5                          |    0.5                      |   0.5        |\n",
    "| Blog and Guides for Review                | 0          | 0                            |    0                      |   0        |\n",
    "| 75% Full Stack                            | 0.5        | 0.5                          | 0.5                         |   0.5        |\n",
    "| Individual Review Ticket                  | 0.5        | 0.5                          |    0.5                      |  0.5         |\n",
    "| Runtime Links                             | 0.5        | 0.5                          |    0.5                      |   0.5        |\n",
    "| Technical Accomplishments                 | 0.5        | 0.5                          |        0.5                  |    0.5       |\n",
    "| Blog and Guides for Review                | 0.5        | 0.5                          |         0.5                 |    0.5       |\n",
    "| Meeting Full Stack and Backend Objectives | 0.5        | 0.5                          |   0.5                       |    0.5       |\n",
    "| GitHub Analytics                          | 0.5        | 0.5                          |   0.5                       |    0.5       |"
   ]
  }
 ],
 "metadata": {
  "language_info": {
   "name": "python"
  },
  "orig_nbformat": 4
 },
 "nbformat": 4,
 "nbformat_minor": 2
}
