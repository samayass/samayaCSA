{
 "cells": [
  {
   "attachments": {},
   "cell_type": "markdown",
   "metadata": {},
   "source": [
    "# Binary Addition\n",
    "> Binary Addition for Seed Points\n",
    "\n",
    "- title: Seed\n",
    "- toc: false\n",
    "- comments: true\n",
    "- categories: [jupyter]"
   ]
  },
  {
   "cell_type": "code",
   "execution_count": 32,
   "metadata": {
    "vscode": {
     "languageId": "java"
    }
   },
   "outputs": [
    {
     "name": "stdout",
     "output_type": "stream",
     "text": [
      "Enter a binary number: \n",
      "1\n",
      "Enter another binary number: \n",
      "1\n",
      "Binary Addition:\n",
      "1+1=10\n"
     ]
    }
   ],
   "source": [
    "import java.util.Scanner;\n",
    "\n",
    "public class BinaryAddition {\n",
    "    public static void main(String args[]){  \n",
    "        Scanner sc = new Scanner(System.in);\n",
    "\n",
    "        System.out.println(\"Enter a binary number: \");\n",
    "        String input1 = sc.nextLine(); \n",
    "        System.out.println(input1);\n",
    "        int decimal=Integer.parseInt(input1,2);  \n",
    "\n",
    "        System.out.println(\"Enter another binary number: \");\n",
    "        String input2 = sc.nextLine(); \n",
    "        System.out.println(input2);\n",
    "        int decimal1=Integer.parseInt(input2,2);  \n",
    "\n",
    "        int add = decimal + decimal1;\n",
    "\n",
    "        System.out.println(\"Binary Addition:\");\n",
    "        String finalBinary = Integer.toBinaryString(add);\n",
    "        System.out.println(input1 + \"+\" + input2 + \"=\" + finalBinary);\n",
    "        sc.close();\n",
    "}\n",
    "}\n",
    "BinaryAddition.main(null);"
   ]
  }
 ],
 "metadata": {
  "kernelspec": {
   "display_name": "Java",
   "language": "java",
   "name": "java"
  },
  "language_info": {
   "codemirror_mode": "java",
   "file_extension": ".jshell",
   "mimetype": "text/x-java-source",
   "name": "Java",
   "pygments_lexer": "java",
   "version": "11.0.16+8-post-Ubuntu-0ubuntu120.04"
  },
  "orig_nbformat": 4
 },
 "nbformat": 4,
 "nbformat_minor": 2
}
