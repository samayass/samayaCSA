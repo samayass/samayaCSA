{
 "cells": [
  {
   "attachments": {},
   "cell_type": "markdown",
   "metadata": {},
   "source": [
    "# Iteration Lesson\n",
    "> Iteration\n",
    "\n",
    "- title: Iteration Lesson\n",
    "- toc: false\n",
    "- comments: false\n",
    "- categories: [AP]"
   ]
  },
  {
   "cell_type": "markdown",
   "metadata": {},
   "source": [
    "## Importance\n",
    "- 25% of the AP test\n",
    "- to simplify code that would otherwise be repeated\n",
    "\n",
    "## Operators\n",
    "- ++ - increment by 1\n",
    "- -- - decrement by 1\n",
    "\n",
    "## While loop\n",
    "- while a specific condition is executed the condition will run\n",
    "\n",
    "## For loop\n",
    "- for each thing in a sequence it will loop \n",
    "- will run for each thing that is true\n",
    "\n",
    "## Recursion Loop\n",
    "- Put your function inside its own functions\n",
    "\n",
    "## Nested Iteration\n",
    "- technique that coders use \n",
    "- any of the three loops can be used\n",
    "- put a loop inside a loop\n"
   ]
  },
  {
   "cell_type": "code",
   "execution_count": 1,
   "metadata": {},
   "outputs": [
    {
     "name": "stdout",
     "output_type": "stream",
     "text": [
      "Enter a number in the range of 1 through 100: "
     ]
    }
   ],
   "source": [
    "import java.util.Scanner;\n",
    "\n",
    "public class Checker \n",
    "{\n",
    "    public static void main(String[] args) \n",
    "    {\n",
    "        int number;  \n",
    "\t\n",
    "        // Create a Scanner object for keyboard input.  \n",
    "        Scanner keyboard = new Scanner(System.in);  \n",
    "             \n",
    "        // Get a number from the user.  \n",
    "        System.out.print(\"Enter a number in the range of 1 through 100: \");  \n",
    "        number = keyboard.nextInt();  \n",
    "\n",
    "        while (number > 100 || number < 1)\n",
    "        {  \n",
    "           System\n",
    "           .out.print(\"Invalid input. Enter a number in the range \" +  \n",
    "                            \"of 1 through 100: \");  \n",
    "           number = keyboard.nextInt();  \n",
    "        } \n",
    "    }\n",
    "}\n",
    "Checker.main(null)"
   ]
  },
  {
   "cell_type": "code",
   "execution_count": 3,
   "metadata": {},
   "outputs": [
    {
     "name": "stdout",
     "output_type": "stream",
     "text": [
      "count is 0\n",
      "count is 1\n",
      "count is 2\n",
      "count is 3\n",
      "count is 4\n"
     ]
    }
   ],
   "source": [
    "public class LoopConversion \n",
    "{\n",
    "    public static void main(String[] args) \n",
    "    {\n",
    "        int count = 0;\n",
    "        //convert to for loop\n",
    "        for (count=0; count < 5;)\n",
    "        {\n",
    "            System.out.println(\"count is \" + count);\n",
    "            count++;\n",
    "        }\n",
    "    }\n",
    "}\n",
    "\n",
    "LoopConversion.main(null);"
   ]
  },
  {
   "cell_type": "code",
   "execution_count": 4,
   "metadata": {},
   "outputs": [
    {
     "name": "stdout",
     "output_type": "stream",
     "text": [
      "i is 0\n",
      "i is 1\n",
      "i is 2\n",
      "i is 3\n",
      "i is 4\n"
     ]
    }
   ],
   "source": [
    "public class ForLoop \n",
    "{\n",
    "    public static void main(String[] args) \n",
    "    {\n",
    "        int i = 0;\n",
    "        //convert to for loop\n",
    "        for (i=0; i < 5;)\n",
    "        {\n",
    "            System.out.println(\"i is \" + i);\n",
    "            i++;\n",
    "        }\n",
    "    }\n",
    "}\n",
    "\n",
    "ForLoop.main(null);"
   ]
  },
  {
   "cell_type": "code",
   "execution_count": 5,
   "metadata": {},
   "outputs": [
    {
     "name": "stdout",
     "output_type": "stream",
     "text": [
      "i is 0\n",
      "i is 1\n",
      "i is 2\n",
      "i is 3\n",
      "i is 4\n"
     ]
    }
   ],
   "source": [
    "public class WhileLoop \n",
    "{\n",
    "    public static void main(String[] args) \n",
    "    {\n",
    "        int i = 0;\n",
    "        //convert to for loop\n",
    "        while (i < 5)\n",
    "        {\n",
    "            System.out.println(\"i is \" + i);\n",
    "            i++;\n",
    "        }\n",
    "    }\n",
    "}\n",
    "\n",
    "WhileLoop.main(null);"
   ]
  },
  {
   "cell_type": "markdown",
   "metadata": {},
   "source": [
    "## HW - Part 1\n",
    "> Write a program where a random number is generated. Then the user tries to guess the number. If they guess too high display something to let them know, and same for if they guess a number that is too low. The loop must iterate until the number is guessed correctly."
   ]
  },
  {
   "cell_type": "code",
   "execution_count": 6,
   "metadata": {},
   "outputs": [
    {
     "name": "stdout",
     "output_type": "stream",
     "text": [
      "A number is chosen between 1 to 100.Guess the number within 5 trials.\n",
      "Guess a number:\n",
      "The number is greater than 9\n",
      "Guess a number:\n",
      "The number is greater than 20\n",
      "Guess a number:\n",
      "The number is less than 60\n",
      "Guess a number:\n",
      "The number is less than 40\n",
      "Guess a number:\n",
      "You have used all 5 trials.\n",
      "The number was 33\n"
     ]
    }
   ],
   "source": [
    "import java.util.Scanner;\n",
    " \n",
    "public class Numberguesser {\n",
    "\n",
    "    public static void\n",
    "    guessnumber()\n",
    "    {\n",
    "        \n",
    "        Scanner scanner = new Scanner(System.in);\n",
    " \n",
    "        int number = 1 + (int)(100* Math.random());\n",
    " \n",
    "        int i, guess;\n",
    " \n",
    "        System.out.println(\n",
    "            \"A number is chosen between 1 to 100.\"\n",
    "            + \"Guess the number\"\n",
    "            + \" within 5 trials.\");\n",
    " \n",
    "\n",
    "        for (i = 0; i < 5; i++) {\n",
    " \n",
    "            System.out.println(\n",
    "                \"Guess a number:\");\n",
    " \n",
    "\n",
    "            guess = scanner.nextInt();\n",
    "\n",
    "            if (number == guess) {\n",
    "                System.out.println(\"You guessed the number.\");\n",
    "                break;\n",
    "            }\n",
    "            else if (number > guess&& i != 5 - 1) {\n",
    "                System.out.println(\"The number is greater than \" + guess);\n",
    "            }\n",
    "            else if (number < guess && i != 5 - 1) {\n",
    "                System.out.println(\"The number is less than \" + guess);\n",
    "            }\n",
    "        }\n",
    " \n",
    "        if (i == 5) {\n",
    "            System.out.println(\n",
    "                \"You have used all 5 trials.\");\n",
    " \n",
    "            System.out.println(\n",
    "                \"The number was \" + number);\n",
    "        }\n",
    "    }\n",
    " \n",
    "    // Driver Code\n",
    "    public static void\n",
    "    main(String arg[])\n",
    "    {\n",
    " \n",
    "        // Function Call\n",
    "        guessnumber();\n",
    "    }\n",
    "}\n",
    "\n",
    "Numberguesser.main(null);"
   ]
  },
  {
   "cell_type": "markdown",
   "metadata": {},
   "source": [
    "## HW - Part 2\n",
    "> quiz\n",
    "![This is an image](https://github.com/samayass/samayaCSA/blob/master/_notebooks/ghtop_images/quiz%20sc.png?raw=true)"
   ]
  }
 ],
 "metadata": {
  "kernelspec": {
   "display_name": "Java",
   "language": "java",
   "name": "java"
  },
  "language_info": {
   "codemirror_mode": "java",
   "file_extension": ".jshell",
   "mimetype": "text/x-java-source",
   "name": "java",
   "pygments_lexer": "java",
   "version": "11.0.16+8-post-Ubuntu-0ubuntu120.04"
  },
  "orig_nbformat": 4
 },
 "nbformat": 4,
 "nbformat_minor": 2
}
