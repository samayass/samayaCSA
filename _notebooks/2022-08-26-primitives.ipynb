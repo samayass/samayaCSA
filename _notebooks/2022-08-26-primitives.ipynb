{
 "cells": [
  {
   "cell_type": "markdown",
   "metadata": {},
   "source": [
    "# Primitves Jupyter Notebook\n",
    "> Understanding primitives\n",
    "\n",
    "- title: Primitves Jupyter Notebook\n",
    "- toc: false\n",
    "- categories: [jupyter]"
   ]
  },
  {
   "cell_type": "code",
   "execution_count": null,
   "metadata": {
    "vscode": {
     "languageId": "java"
    }
   },
   "outputs": [],
   "source": [
    "import java.util.Scanner;\n",
    "\n",
    "//creating Class\n",
    "public class ConvertTemp {\n",
    "\n",
    "    //creating main method\n",
    "    public static void main(String[] args){\n",
    "\n",
    "        //ceclaring variables\n",
    "        double multiplyNum = 1.8;\n",
    "        int addNum = 32;\n",
    "        int choice;\n",
    "        Scanner scanner = new Scanner(System.in);\n",
    "        double number;\n",
    "        \n",
    "        while(true) {\n",
    "\n",
    "            //menu options\n",
    "            System.out.println(\"Press 1 for conversion to C\");\n",
    "            System.out.println(\"Press 2 for conversion to F\");\n",
    "            System.out.println(\"Press 3 to quit\");\n",
    "\n",
    "              //ask user for their choice\n",
    "              System.out.println(\"Make your choice\");\n",
    "              choice = scanner.nextInt();\n",
    "  \n",
    "              \n",
    "              switch (choice) {\n",
    "  \n",
    "                  //convert celsius to farenheit\n",
    "                  case 1:\n",
    "                    System.out.println(\"Enter number\");\n",
    "                    number = scanner.nextDouble();\n",
    "                    System.out.println(\"Number is: \" + number);\n",
    "                    System.out.println(\"Celsius to Farenheit:\" + ((number * multiplyNum)+addNum));\n",
    "                      break;\n",
    "  \n",
    "                  //convert farenheit to celsius\n",
    "                  case 2:\n",
    "                    System.out.println(\"Enter number\");\n",
    "                    number = scanner.nextDouble();\n",
    "                    System.out.println(\"Number is: \" + number);\n",
    "                    System.out.println(\"Farenheit to Celsius:\" + ((number - addNum) / multiplyNum ));\n",
    "                      break;\n",
    "\n",
    "                      //quit the program\n",
    "                case 3:\n",
    "                System.exit(0);\n",
    "\n",
    "            //default case to display the message invalid choice made by the user\n",
    "            default:\n",
    "                System.out.println(\"Invalid choice. Input a valid choice (1,2,3) \\\\n\\\\n\");\n",
    "\n",
    "              }\n",
    "            }\n",
    "        }\n",
    "    }\n",
    "ConvertTemp.main(null)"
   ]
  },
  {
   "cell_type": "code",
   "execution_count": null,
   "metadata": {
    "vscode": {
     "languageId": "java"
    }
   },
   "outputs": [],
   "source": [
    "public class Primitives {\n",
    "    public static void main(String[] args) {\n",
    "        int a = 5;\n",
    "        double b = 7.4;\n",
    "        boolean c = true;\n",
    "\n",
    "        String d = \"Hi\";\n",
    "        String e = new String (\"Hey\");\n",
    "      System.out.println(\"An Integer: \" + a);\n",
    "      System.out.println(\"A Double: \" + b);\n",
    "      System.out.println(\"A Boolean: \" + c);\n",
    "      System.out.println(\"A String: \" + d);\n",
    "      System.out.println(\"A String Formal: \" + e);\n",
    "    }\n",
    "  }\n",
    "  Primitives.main(null)"
   ]
  }
 ],
 "metadata": {
  "kernelspec": {
   "display_name": "Java",
   "language": "java",
   "name": "java"
  },
  "language_info": {
   "codemirror_mode": "java",
   "file_extension": ".jshell",
   "mimetype": "text/x-java-source",
   "name": "Java",
   "pygments_lexer": "java",
   "version": "11.0.16+8-post-Ubuntu-0ubuntu120.04"
  },
  "orig_nbformat": 4
 },
 "nbformat": 4,
 "nbformat_minor": 2
}
