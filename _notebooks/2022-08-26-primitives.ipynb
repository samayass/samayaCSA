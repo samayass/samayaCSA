{
 "cells": [
  {
   "cell_type": "markdown",
   "id": "7c31a3d8-2d46-4ee0-9766-27d666dd09a6",
   "metadata": {},
   "source": [
    "# Primitves Jupyter Notebook\n",
    "> Understanding primitives\n",
    "\n",
    "- title: Primitves Jupyter Notebook\n",
    "- toc: false\n",
    "- categories: [jupyter]"
   ]
  },
  {
   "cell_type": "code",
   "execution_count": 1,
   "id": "57782c31-f820-4ddf-bd96-ba81af3855cf",
   "metadata": {},
   "outputs": [
    {
     "name": "stdout",
     "output_type": "stream",
     "text": [
      "An Integer: 5\n",
      "A Double: 7.4\n",
      "A Boolean: true\n",
      "A String: Hi\n",
      "A String Formal: Hey\n"
     ]
    }
   ],
   "source": [
    "public class Primitives {\n",
    "    public static void main(String[] args) {\n",
    "        int a = 5;\n",
    "        double b = 7.4;\n",
    "        boolean c = true;\n",
    "\n",
    "        String d = \"Hi\";\n",
    "        String e = new String (\"Hey\");\n",
    "      System.out.println(\"An Integer: \" + a);\n",
    "      System.out.println(\"A Double: \" + b);\n",
    "      System.out.println(\"A Boolean: \" + c);\n",
    "      System.out.println(\"A String: \" + d);\n",
    "      System.out.println(\"A String Formal: \" + e);\n",
    "    }\n",
    "  }\n",
    "  Primitives.main(null)"
   ]
  },
  {
   "cell_type": "code",
   "execution_count": null,
   "id": "1ef0603f-f61a-4114-9a4b-53a028823202",
   "metadata": {
    "tags": []
   },
   "outputs": [
    {
     "name": "stdout",
     "output_type": "stream",
     "text": [
      "Press 1 for conversion to C\n",
      "Press 2 for conversion to F\n",
      "Press 3 to quit\n",
      "Make your choice\n"
     ]
    },
    {
     "name": "stdout",
     "output_type": "stream",
     "text": [
      " 1\n"
     ]
    },
    {
     "name": "stdout",
     "output_type": "stream",
     "text": [
      "Enter number\n"
     ]
    },
    {
     "name": "stdout",
     "output_type": "stream",
     "text": [
      " 24\n"
     ]
    },
    {
     "name": "stdout",
     "output_type": "stream",
     "text": [
      "Number is: 24.0\n",
      "Celsius to Farenheit:75.2\n",
      "Press 1 for conversion to C\n",
      "Press 2 for conversion to F\n",
      "Press 3 to quit\n",
      "Make your choice\n"
     ]
    },
    {
     "name": "stdout",
     "output_type": "stream",
     "text": [
      " 2\n"
     ]
    },
    {
     "name": "stdout",
     "output_type": "stream",
     "text": [
      "Enter number\n"
     ]
    },
    {
     "name": "stdout",
     "output_type": "stream",
     "text": [
      " 450\n"
     ]
    },
    {
     "name": "stdout",
     "output_type": "stream",
     "text": [
      "Number is: 450.0\n",
      "Farenheit to Celsius:232.22222222222223\n",
      "Press 1 for conversion to C\n",
      "Press 2 for conversion to F\n",
      "Press 3 to quit\n",
      "Make your choice\n"
     ]
    }
   ],
   "source": [
    "import java.util.Scanner;\n",
    "\n",
    "//creating Class\n",
    "public class ConvertTemp {\n",
    "\n",
    "    //creating main method\n",
    "    public static void main(String[] args){\n",
    "\n",
    "        //ceclaring variables\n",
    "        double multiplyNum = 1.8;\n",
    "        int addNum = 32;\n",
    "        int choice;\n",
    "        Scanner scanner = new Scanner(System.in);\n",
    "        double number;\n",
    "        \n",
    "        while(true) {\n",
    "\n",
    "            //menu options\n",
    "            System.out.println(\"Press 1 for conversion to C\");\n",
    "            System.out.println(\"Press 2 for conversion to F\");\n",
    "            System.out.println(\"Press 3 to quit\");\n",
    "\n",
    "              //ask user for their choice\n",
    "              System.out.println(\"Make your choice\");\n",
    "              choice = scanner.nextInt();\n",
    "  \n",
    "              \n",
    "              switch (choice) {\n",
    "  \n",
    "                  //convert celsius to farenheit\n",
    "                  case 1:\n",
    "                    System.out.println(\"Enter number\");\n",
    "                    number = scanner.nextDouble();\n",
    "                    System.out.println(\"Number is: \" + number);\n",
    "                    System.out.println(\"Celsius to Farenheit:\" + ((number * multiplyNum)+addNum));\n",
    "                      break;\n",
    "  \n",
    "                  //convert farenheit to celsius\n",
    "                  case 2:\n",
    "                    System.out.println(\"Enter number\");\n",
    "                    number = scanner.nextDouble();\n",
    "                    System.out.println(\"Number is: \" + number);\n",
    "                    System.out.println(\"Farenheit to Celsius:\" + ((number - addNum) / multiplyNum ));\n",
    "                      break;\n",
    "\n",
    "                      //quit the program\n",
    "                case 3:\n",
    "                System.exit(0);\n",
    "\n",
    "            //default case to display the message invalid choice made by the user\n",
    "            default:\n",
    "                System.out.println(\"Invalid choice. Input a valid choice (1,2,3) \\\\n\\\\n\");\n",
    "\n",
    "              }\n",
    "            }\n",
    "        }\n",
    "    }\n",
    "ConvertTemp.main(null)"
   ]
  },
  {
   "cell_type": "code",
   "execution_count": null,
   "id": "49275350-356b-40ea-8bf0-9b299bc3bb2a",
   "metadata": {},
   "outputs": [],
   "source": []
  }
 ],
 "metadata": {
  "kernelspec": {
   "display_name": "Java",
   "language": "java",
   "name": "java"
  },
  "language_info": {
   "codemirror_mode": "java",
   "file_extension": ".jshell",
   "mimetype": "text/x-java-source",
   "name": "java",
   "pygments_lexer": "java",
   "version": "11.0.16+8-post-Ubuntu-0ubuntu120.04"
  }
 },
 "nbformat": 4,
 "nbformat_minor": 5
}
