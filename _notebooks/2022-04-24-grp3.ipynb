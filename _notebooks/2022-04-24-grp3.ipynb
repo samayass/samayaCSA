{
 "cells": [
  {
   "attachments": {},
   "cell_type": "markdown",
   "metadata": {},
   "source": [
    "# Recursion, Sorting, and Arraylists - Group 3\n",
    "\n",
    "- toc: false\n",
    "- badges: true\n",
    "- categories: [cb]"
   ]
  },
  {
   "attachments": {},
   "cell_type": "markdown",
   "metadata": {},
   "source": [
    "## Recursion Hack"
   ]
  },
  {
   "cell_type": "code",
   "execution_count": 2,
   "metadata": {
    "vscode": {
     "languageId": "java"
    }
   },
   "outputs": [
    {
     "name": "stdout",
     "output_type": "stream",
     "text": [
      "**********\n",
      "*********\n",
      "********\n",
      "*******\n",
      "******\n",
      "*****\n",
      "****\n",
      "***\n",
      "**\n",
      "*\n"
     ]
    }
   ],
   "source": [
    "public void drawLine(int n) {\n",
    "    \n",
    "    for (int i = 1; i <= n; i++) {\n",
    "        System.out.print(\"*\");\n",
    "\n",
    "    }\n",
    "\n",
    "    if (n>0){\n",
    "        System.out.println();\n",
    "        drawLine(n - 1);\n",
    "    }\n",
    "}\n",
    "drawLine(10);"
   ]
  },
  {
   "attachments": {},
   "cell_type": "markdown",
   "metadata": {},
   "source": [
    "## Sorting Hack"
   ]
  },
  {
   "cell_type": "code",
   "execution_count": 3,
   "metadata": {
    "vscode": {
     "languageId": "java"
    }
   },
   "outputs": [
    {
     "name": "stdout",
     "output_type": "stream",
     "text": [
      "Russia (17098246)\n",
      "Canada (9984670)\n",
      "China (9596961)\n",
      "United States (9372610)\n",
      "Brazil (8515767)\n",
      "Australia (7692024)\n",
      "India (3287263)\n",
      "Argentina (2780400)\n"
     ]
    }
   ],
   "source": [
    "import java.util.ArrayList;\n",
    "import java.util.Collections;\n",
    "import java.util.Comparator;\n",
    "\n",
    "public class Main {\n",
    "    public static void main(String[] args) {\n",
    "        ArrayList<Country> countries = new ArrayList<Country>();\n",
    "        countries.add(new Country(\"Russia\", 17098246));\n",
    "        countries.add(new Country(\"Australia\", 7692024));\n",
    "        countries.add(new Country(\"Argentina\", 2780400));\n",
    "        countries.add(new Country(\"United States\", 9372610));\n",
    "        countries.add(new Country(\"Canada\", 9984670));\n",
    "        countries.add(new Country(\"China\", 9596961));\n",
    "        countries.add(new Country(\"Brazil\", 8515767));\n",
    "        countries.add(new Country(\"India\", 3287263));\n",
    "\n",
    "        // Sort the countries in decreasing order of size using a selection sort algorithm and a Comparator\n",
    "        Comparator<Country> sizeComparator = new Comparator<Country>() {\n",
    "            @Override\n",
    "            public int compare(Country c1, Country c2) {\n",
    "                return c1.getSize() - c2.getSize();\n",
    "            }\n",
    "        };\n",
    "        for (int i = 0; i < countries.size() - 1; i++) {\n",
    "            int maxIndex = i;\n",
    "            for (int j = i + 1; j < countries.size(); j++) {\n",
    "                if (sizeComparator.compare(countries.get(j), countries.get(maxIndex)) > 0) {\n",
    "                    maxIndex = j;\n",
    "                }\n",
    "            }\n",
    "            if (maxIndex != i) {\n",
    "                Collections.swap(countries, i, maxIndex);\n",
    "            }\n",
    "        }\n",
    "\n",
    "        // Print the sorted countries\n",
    "        for (Country country : countries) {\n",
    "            System.out.println(country.getName() + \" (\" + country.getSize() + \")\");\n",
    "        }\n",
    "    }\n",
    "}\n",
    "\n",
    "class Country {\n",
    "    private String name;\n",
    "    private int size;\n",
    "\n",
    "    public Country(String name, int size) {\n",
    "        this.name = name;\n",
    "        this.size = size;\n",
    "    }\n",
    "\n",
    "    public String getName() {\n",
    "        return name;\n",
    "    }\n",
    "\n",
    "    public int getSize() {\n",
    "        return size;\n",
    "    }\n",
    "}\n",
    "\n",
    "Main.main(null);\n"
   ]
  },
  {
   "attachments": {},
   "cell_type": "markdown",
   "metadata": {},
   "source": [
    "## Arraylists Hack"
   ]
  },
  {
   "cell_type": "code",
   "execution_count": 4,
   "metadata": {
    "vscode": {
     "languageId": "java"
    }
   },
   "outputs": [
    {
     "name": "stdout",
     "output_type": "stream",
     "text": [
      "[6, 10, 1]\n"
     ]
    }
   ],
   "source": [
    "ArrayList<Integer> list = new ArrayList<Integer>();\n",
    "list.add(3);\n",
    "list.add(6);\n",
    "list.add(9);\n",
    "list.add(10);\n",
    "list.add(2);\n",
    "list.add(1);\n",
    "\n",
    "public ArrayList<Integer> everyOther(ArrayList<Integer> list) {\n",
    "    for (int i = list.size() - 1; i >= 0; i--) {\n",
    "        if (i % 2 == 0) {\n",
    "            list.remove(i);\n",
    "        }\n",
    "    }\n",
    "    return list;\n",
    "}\n",
    "\n",
    "System.out.println(everyOther(list));\n"
   ]
  },
  {
   "cell_type": "code",
   "execution_count": 5,
   "metadata": {
    "vscode": {
     "languageId": "java"
    }
   },
   "outputs": [
    {
     "name": "stdout",
     "output_type": "stream",
     "text": [
      "[a, b, c, d, e, f]\n"
     ]
    }
   ],
   "source": [
    "ArrayList<Character> list = new ArrayList<Character>();\n",
    "list.add('k');\n",
    "list.add('m');\n",
    "list.add('s');\n",
    "list.add('l');\n",
    "list.add('o');\n",
    "list.add('j');\n",
    "\n",
    "public ArrayList<Character> overwrite(ArrayList<Character> list) {\n",
    "    int originalSize = list.size();\n",
    "    list.clear();\n",
    "    for (char c = 'a'; c < 'a' + originalSize; c++) {\n",
    "        list.add(c);\n",
    "    }\n",
    "    return list;\n",
    "}\n",
    "\n",
    "System.out.println(overwrite(list));\n"
   ]
  }
 ],
 "metadata": {
  "kernelspec": {
   "display_name": "Java",
   "language": "java",
   "name": "java"
  },
  "language_info": {
   "codemirror_mode": "java",
   "file_extension": ".jshell",
   "mimetype": "text/x-java-source",
   "name": "Java",
   "pygments_lexer": "java",
   "version": "11.0.16+8-post-Ubuntu-0ubuntu120.04"
  },
  "orig_nbformat": 4
 },
 "nbformat": 4,
 "nbformat_minor": 2
}
