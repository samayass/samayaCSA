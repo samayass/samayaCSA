{
 "cells": [
  {
   "cell_type": "markdown",
   "metadata": {},
   "source": [
    "# Primitives Student Lesson\n",
    "> Primitives\n",
    "\n",
    "- title: Primitives Student Lesson\n",
    "- toc: false\n",
    "- comments: false\n",
    "- categories: [jupyter]"
   ]
  },
  {
   "cell_type": "markdown",
   "metadata": {},
   "source": [
    "## Primitives\n",
    "- primitives are lowercase\n",
    "- nonprimitives are uppercase\n",
    "- Collegeboard need-to-know primitives: Boolean, Int, Double\n",
    "\n",
    "## Casting\n",
    "- changing a variable from one data type to another\n",
    "- widening: happens automatically, going from smaller to larger data type\n",
    "- narrowing: need to declare to address overflow error, going from larger to smaller data type\n",
    "\n",
    "## Operators\n",
    "- (+) is addition\n",
    "- (-) is subtraction\n",
    "- (/) is division\n",
    "- (*) is multiplication\n",
    "- (%) finds the remainder\n",
    "- example: x += 7 increases the varaible by 7\n",
    "\n",
    "## Vocab\n",
    "\n",
    "### Casting for Division\n",
    "- When dividing a double by a double the output is a double, and when dividing an integer with an integer the output is an integer, but that is not always the case. like 7/3 is not an integer. To fix this you need to cast the denominator to a double like 7/(double)3"
   ]
  },
  {
   "cell_type": "code",
   "execution_count": 12,
   "metadata": {
    "vscode": {
     "languageId": "java"
    }
   },
   "outputs": [
    {
     "name": "stdout",
     "output_type": "stream",
     "text": [
      "2.0\n",
      "2.3333333333333335\n"
     ]
    }
   ],
   "source": [
    "int x = 7/3;\n",
    "System.out.println(x);\n",
    "\n",
    "// vs casting with double\n",
    "double y = 7/(double)3;\n",
    "System.out.println(y);"
   ]
  },
  {
   "cell_type": "markdown",
   "metadata": {},
   "source": [
    "### Casting, specifically for Truncating or Rounding\n",
    "- When rounding double values they can be rounded to the nearest integer by adding or subtracting 0.5 and casting with (int)"
   ]
  },
  {
   "cell_type": "code",
   "execution_count": 14,
   "metadata": {
    "vscode": {
     "languageId": "java"
    }
   },
   "outputs": [
    {
     "name": "stdout",
     "output_type": "stream",
     "text": [
      "7.0/3 = 1.6666666666666667\n",
      "7/3 truncated: 1\n",
      "7.0/3 rounded to nearest int: 2\n"
     ]
    }
   ],
   "source": [
    "    double x = 7.0 / 3;\n",
    "     int rounded = (int)(number + 0.5);\n",
    "     System.out.println(\"7.0/3 = \" + number);\n",
    "     System.out.println(\"7/3 truncated: \" + (int)number );\n",
    "     System.out.println(\"7.0/3 rounded to nearest int: \" + rounded);"
   ]
  },
  {
   "cell_type": "markdown",
   "metadata": {},
   "source": [
    "# HW\n",
    "> [2006 FRQ](https://secure-media.collegeboard.org/apc/_ap06_frq_computer_sc_51649.pdf)\n",
    "\n",
    "## 2a"
   ]
  },
  {
   "cell_type": "code",
   "execution_count": null,
   "metadata": {
    "vscode": {
     "languageId": "java"
    }
   },
   "outputs": [],
   "source": [
    "public double purchasePrice() {\n",
    "    return getListPrice() * (1+taxRate);\n",
    "}"
   ]
  },
  {
   "cell_type": "markdown",
   "metadata": {},
   "source": [
    "## 3a"
   ]
  },
  {
   "cell_type": "code",
   "execution_count": null,
   "metadata": {
    "vscode": {
     "languageId": "java"
    }
   },
   "outputs": [],
   "source": [
    "public int compareCustomer(Customer other)\n",
    "  {\n",
    "    int compare =  getName().compareTo(other.getName());\n",
    "    if (compare == 0) {\n",
    "      return getID() - other.getID();\n",
    "    }\n",
    "    else {\n",
    "      return compare;\n",
    "    }\n",
    "  }"
   ]
  }
 ],
 "metadata": {
  "kernelspec": {
   "display_name": "Java",
   "language": "java",
   "name": "java"
  },
  "language_info": {
   "codemirror_mode": "java",
   "file_extension": ".jshell",
   "mimetype": "text/x-java-source",
   "name": "Java",
   "pygments_lexer": "java",
   "version": "11.0.16+8-post-Ubuntu-0ubuntu120.04"
  },
  "orig_nbformat": 4
 },
 "nbformat": 4,
 "nbformat_minor": 2
}
