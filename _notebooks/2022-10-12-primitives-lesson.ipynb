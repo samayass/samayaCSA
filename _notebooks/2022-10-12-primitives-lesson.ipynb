{
 "cells": [
  {
   "cell_type": "markdown",
   "metadata": {},
   "source": [
    "# Primitives Student Lesson\n",
    "> Primitives\n",
    "\n",
    "- title: Primitives Student Lesson\n",
    "- toc: false\n",
    "- comments: false\n",
    "- categories: [jupyter]"
   ]
  },
  {
   "cell_type": "markdown",
   "metadata": {},
   "source": [
    "# Notes\n",
    "## Primitives\n",
    "- primitives are lowercase\n",
    "- nonprimitives are uppercase\n",
    "- Collegeboard need-to-know primitives: Boolean, Int, Double\n",
    "## Casting\n",
    "- changing a variable from one data type to another\n",
    "- widening: happens automatically, going from smaller to larger data type\n",
    "- narrowing: need to declare to address overflow error, going from larger to smaller data type\n",
    "## Operators\n",
    "- (+) is addition\n",
    "- (-) is subtraction\n",
    "- (/) is division\n",
    "- (*) is multiplication\n",
    "- (%) finds the remainder\n",
    "- example: x += 7 increases the varaible by 7"
   ]
  },
  {
   "cell_type": "markdown",
   "metadata": {},
   "source": [
    "# HW\n",
    "> [2006 FRQ](https://secure-media.collegeboard.org/apc/_ap06_frq_computer_sc_51649.pdf) <br>\n",
    "## 2a"
   ]
  },
  {
   "cell_type": "code",
   "execution_count": null,
   "metadata": {
    "vscode": {
     "languageId": "java"
    }
   },
   "outputs": [],
   "source": [
    "public double purchasePrice() {\n",
    "    return getListPrice() * (1+taxRate);\n",
    "}"
   ]
  },
  {
   "cell_type": "markdown",
   "metadata": {},
   "source": [
    "## 3a"
   ]
  },
  {
   "cell_type": "code",
   "execution_count": null,
   "metadata": {
    "vscode": {
     "languageId": "java"
    }
   },
   "outputs": [],
   "source": [
    "public int compareCustomer(Customer other)\n",
    "  {\n",
    "    int compare =  getName().compareTo(other.getName());\n",
    "    if (compare == 0) {\n",
    "      return getID() - other.getID();\n",
    "    }\n",
    "    else {\n",
    "      return compare;\n",
    "    }\n",
    "  }"
   ]
  }
 ],
 "metadata": {
  "language_info": {
   "name": "python"
  },
  "orig_nbformat": 4
 },
 "nbformat": 4,
 "nbformat_minor": 2
}
