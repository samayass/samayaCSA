{
 "cells": [
  {
   "cell_type": "markdown",
   "metadata": {},
   "source": [
    "# Arrays Lesson\n",
    "> Arrays\n",
    "\n",
    "- title: Arrays Lesson\n",
    "- toc: false\n",
    "- comments: false\n",
    "- categories: [jupyter]"
   ]
  },
  {
   "cell_type": "markdown",
   "metadata": {},
   "source": [
    "Array Syntax\n",
    "- int [] array = new int[10];\n",
    "- int [] array2 = {10,9,8,7,6,5,4,3,2,1};\n",
    "Bound Errors\n",
    "- when you access an array element that does not exist\n",
    "Traverse an Array\n",
    "- Any sort of loops - main way to access is for loop\n",
    "- enhanced for loop: variable element is assigned to values[0]\n",
    "    - specific purpose - get elements of a collection from beg to end\n",
    "    - better to use when the number of elements in the array is unknown\n",
    "- basic for loop - index varibale loop assigned as 0, 1\n",
    "    - better to use when we knwo the number of iterations"
   ]
  },
  {
   "cell_type": "markdown",
   "metadata": {},
   "source": [
    "## HW"
   ]
  },
  {
   "cell_type": "code",
   "execution_count": null,
   "metadata": {
    "vscode": {
     "languageId": "java"
    }
   },
   "outputs": [],
   "source": [
    "public class Array {\n",
    "    private int[] values = {1, 2, 3, 4, 5, 6, 7, 8};\n",
    "\n",
    "    public void printElements(){\n",
    "        for(int i = 0; i < values.length; i++){\n",
    "            System.out.println(values[i]);\n",
    "        }\n",
    "    }\n",
    "\n",
    "    public void swapElements(){\n",
    "        int lastElement = values[values.length-1];\n",
    "        values[values.length-1] = values[0];\n",
    "        values[0] = lastElement;\n",
    "    }\n",
    "\n",
    "    public void replaceAllZero(){\n",
    "        for(int i = 0; i < values.length; i++){\n",
    "            values[i] = 0;\n",
    "        }\n",
    "    }\n",
    "\n",
    "    public static void main(String[] args){\n",
    "        \n",
    "        System.out.println(\"First and Last Element Swap: \");\n",
    "        ArrayMethods swapElements = new ArrayMethods();\n",
    "        swapElements.swapElements();\n",
    "        swapElements.printElements();\n",
    "\n",
    "        System.out.println(\"Replacing All Elements w/ Zero: \");\n",
    "        ArrayMethods replaceAllZero = new ArrayMethods();\n",
    "        swapElements.replaceAllZero();\n",
    "        swapElements.printElements();\n",
    "    }\n",
    "}\n",
    "\n",
    "ArrayMethods.main(null);"
   ]
  }
 ],
 "metadata": {
  "language_info": {
   "name": "python"
  },
  "orig_nbformat": 4
 },
 "nbformat": 4,
 "nbformat_minor": 2
}
