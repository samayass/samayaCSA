{
 "cells": [
  {
   "attachments": {},
   "cell_type": "markdown",
   "metadata": {},
   "source": [
    "# Arrays Lesson\n",
    "> Arrays\n",
    "\n",
    "- title: Arrays Lesson\n",
    "- toc: false\n",
    "- comments: false\n",
    "- categories: [AP]"
   ]
  },
  {
   "attachments": {},
   "cell_type": "markdown",
   "metadata": {},
   "source": [
    "## Vocab \n",
    "\n",
    "### Populating\n",
    "- giving the elements in the array values\n",
    "\n",
    "### Array Bounds\n",
    "- marks start and end of array\n",
    "\n",
    "### Traversal\n",
    "- visiting each element in an array from one end of array to the other"
   ]
  },
  {
   "cell_type": "markdown",
   "metadata": {},
   "source": [
    "## Array Syntax\n",
    "- int [] array = new int[10];\n",
    "- int [] array2 = {10,9,8,7,6,5,4,3,2,1};\n",
    "Bound Errors\n",
    "- when you access an array element that does not exist\n",
    "Traverse an Array\n",
    "- Any sort of loops - main way to access is for loop\n",
    "- enhanced for loop: variable element is assigned to values[0]\n",
    "    - specific purpose - get elements of a collection from beg to end\n",
    "    - better to use when the number of elements in the array is unknown\n",
    "- basic for loop - index varibale loop assigned as 0, 1\n",
    "    - better to use when we knwo the number of iterations"
   ]
  },
  {
   "cell_type": "markdown",
   "metadata": {},
   "source": [
    "## HW"
   ]
  },
  {
   "cell_type": "code",
   "execution_count": 7,
   "metadata": {},
   "outputs": [
    {
     "name": "stdout",
     "output_type": "stream",
     "text": [
      "First and Last Element Swap: \n",
      "8\n",
      "2\n",
      "3\n",
      "4\n",
      "5\n",
      "6\n",
      "7\n",
      "1\n",
      "Replacing All Elements w/ Zero: \n",
      "0\n",
      "0\n",
      "0\n",
      "0\n",
      "0\n",
      "0\n",
      "0\n",
      "0\n"
     ]
    }
   ],
   "source": [
    "public class Array {\n",
    "    private int[] values = {1, 2, 3, 4, 5, 6, 7, 8};\n",
    "\n",
    "    public void printElements(){\n",
    "        for(int i = 0; i < values.length; i++){\n",
    "            System.out.println(values[i]);\n",
    "        }\n",
    "    }\n",
    "\n",
    "    public void swapElements(){\n",
    "        int lastElement = values[values.length-1];\n",
    "        values[values.length-1] = values[0];\n",
    "        values[0] = lastElement;\n",
    "    }\n",
    "\n",
    "    public void replaceAllZero(){\n",
    "        for(int i = 0; i < values.length; i++){\n",
    "            values[i] = 0;\n",
    "        }\n",
    "    }\n",
    "\n",
    "    public static void main(String[] args){\n",
    "        \n",
    "        System.out.println(\"First and Last Element Swap: \");\n",
    "        Array swapElements = new Array();\n",
    "        swapElements.swapElements();\n",
    "        swapElements.printElements();\n",
    "\n",
    "        System.out.println(\"Replacing All Elements w/ Zero: \");\n",
    "        Array replaceAllZero = new Array();\n",
    "        swapElements.replaceAllZero();\n",
    "        swapElements.printElements();\n",
    "    }\n",
    "}\n",
    "\n",
    "Array.main(null);"
   ]
  }
 ],
 "metadata": {
  "kernelspec": {
   "display_name": "Java",
   "language": "java",
   "name": "java"
  },
  "language_info": {
   "codemirror_mode": "java",
   "file_extension": ".jshell",
   "mimetype": "text/x-java-source",
   "name": "java",
   "pygments_lexer": "java",
   "version": "11.0.16+8-post-Ubuntu-0ubuntu120.04"
  },
  "orig_nbformat": 4
 },
 "nbformat": 4,
 "nbformat_minor": 2
}
