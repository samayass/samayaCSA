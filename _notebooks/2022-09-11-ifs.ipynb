{
 "cells": [
  {
   "cell_type": "markdown",
   "id": "57a624b3-ebf2-4091-b298-1788b314fdc3",
   "metadata": {},
   "source": [
    "# If and Else Lesson Jupyter Notebook\n",
    "> My lesson for If and Else\n",
    "\n",
    "- title: If and Else Lesson\n",
    "- toc: true\n",
    "- comments: true\n",
    "- categories: [jupyter]"
   ]
  },
  {
   "cell_type": "markdown",
   "id": "73abe5b6-b28c-4788-8fce-1dcb188363c0",
   "metadata": {},
   "source": [
    "## If and Else Monotonic Funtion"
   ]
  },
  {
   "cell_type": "code",
   "execution_count": 11,
   "id": "5172ceab-0056-4f26-9d36-8e8bb2548f6f",
   "metadata": {},
   "outputs": [
    {
     "name": "stdout",
     "output_type": "stream",
     "text": [
      "Enter the length for the array: \n"
     ]
    },
    {
     "name": "stdin",
     "output_type": "stream",
     "text": [
      " 3\n"
     ]
    },
    {
     "name": "stdout",
     "output_type": "stream",
     "text": [
      "Enter the numbers for the array: \n"
     ]
    },
    {
     "name": "stdin",
     "output_type": "stream",
     "text": [
      " 2\n",
      " 3\n",
      " 4\n"
     ]
    },
    {
     "name": "stdout",
     "output_type": "stream",
     "text": [
      "[2, 3, 4]\n",
      "Yes the function is monotonic"
     ]
    }
   ],
   "source": [
    "class Monotonic {\n",
    "    public static void main (String[] args) {\n",
    "        Scanner scanner = new Scanner(System.in);\n",
    "        System.out.println(\"Enter the length for the array: \"); //user input for array\n",
    "        int length = scanner.nextInt();\n",
    "        int [] arr = new int [length];\n",
    "        System.out.println(\"Enter the numbers for the array: \"); // use these inputs to check if increasing or decreasing\n",
    "\n",
    "            for (int i=0; i<length; i++) {\n",
    "                arr[i] = scanner.nextInt();\n",
    "            }\n",
    "    System.out.println(Arrays.toString(arr));\n",
    "        \n",
    "    boolean answer = checkmonotonic(arr);\n",
    "    if (answer == true) // if the array is only increasing or decreasing then it is monotonic\n",
    "      System.out.print(\"Yes the function is monotonic\");\n",
    "    else // if the array is doing both increasing and decreasing then it is not monotonic\n",
    "      System.out.print(\"No the function is not monotonic\");\n",
    "\n",
    "}\n",
    "    \n",
    "    public static boolean checkmonotonic(int arr[])\n",
    "  {\n",
    "    int length = arr.length;\n",
    "    boolean increasing = true;\n",
    "    boolean decreasing = true;\n",
    "    \n",
    "    for (int j = 0; j < length - 1; j++) {\n",
    "        if (arr[j] > arr[j+1]) { // if the number after the first number is smaller then the numbers in the array are not increasing\n",
    "            increasing = false;\n",
    "        }\n",
    "        \n",
    "        else if (arr[j] < arr[j+1]) { // else if the number after the first number is larger then the numbers in the array are not decreasing\n",
    "            decreasing = false;\n",
    "        }\n",
    "        \n",
    "        else { \n",
    "            increasing = true;\n",
    "            decreasing = true;\n",
    "        }\n",
    "    }\n",
    "    \n",
    "        \n",
    "        return increasing || decreasing; // if the array is increasing or decreasing then according to the above if outputs then the array is monotonic otherwise if both are true then not monotonic\n",
    "        \n",
    "    }\n",
    "    \n",
    "    \n",
    "    \n",
    "}\n",
    "\n",
    "\n",
    "\n",
    "Monotonic.main(null);"
   ]
  },
  {
   "cell_type": "markdown",
   "id": "ac06afd7-cd2e-4e00-96d8-15a82996a03f",
   "metadata": {},
   "source": [
    "## If, else if, else grades"
   ]
  },
  {
   "cell_type": "code",
   "execution_count": 13,
   "id": "a92d63e7-0c58-4a8c-af43-d4cfa14c7f7b",
   "metadata": {},
   "outputs": [
    {
     "name": "stdout",
     "output_type": "stream",
     "text": [
      "Enter your score: \n"
     ]
    },
    {
     "name": "stdin",
     "output_type": "stream",
     "text": [
      " 50\n"
     ]
    },
    {
     "name": "stdout",
     "output_type": "stream",
     "text": [
      "This is an F grade\n"
     ]
    }
   ],
   "source": [
    "class IfandElse{\n",
    "    public static void main(String[] args){\n",
    "        Scanner scanner = new Scanner(System.in);\n",
    "        System.out.println(\"Enter your score: \");\n",
    "        int score = scanner.nextInt();\n",
    "\n",
    "        if (score >= 90){\n",
    "            System.out.println(\"This is an A grade\");\n",
    "        }\n",
    "\n",
    "        else if (score >= 80) {\n",
    "            System.out.println(\"This is a B grade\");\n",
    "        }\n",
    "\n",
    "        else if (score >= 70) {\n",
    "            System.out.println(\"This is a C grade\");\n",
    "        }\n",
    "\n",
    "        else if (score >= 60) {\n",
    "            System.out.println(\"This is a D grade\");\n",
    "        }\n",
    "\n",
    "        else\n",
    "            System.out.println(\"This is an F grade\");\n",
    "        }\n",
    "\n",
    "}\n",
    "\n",
    "IfandElse.main(null);"
   ]
  },
  {
   "cell_type": "markdown",
   "id": "8d408a99-ac48-4229-ae67-f22ba91f7165",
   "metadata": {},
   "source": [
    "## De Morgan's Law"
   ]
  },
  {
   "cell_type": "markdown",
   "id": "d51f88b2-9c17-4650-8949-c9793dde1955",
   "metadata": {},
   "source": [
    "De Morgan's Law is used to negate an expression that we already have. So for \n",
    "!(a && b) it would be come !a || !b as all the elements flip even the operators. For !(a < b) it would become a >= b. For !(a == b) it would become a != b. "
   ]
  },
  {
   "cell_type": "code",
   "execution_count": 30,
   "id": "e3952171-e01d-4555-8f54-069babf2eba6",
   "metadata": {},
   "outputs": [
    {
     "name": "stdout",
     "output_type": "stream",
     "text": [
      "Enter the length for the array: \n"
     ]
    },
    {
     "name": "stdin",
     "output_type": "stream",
     "text": [
      " 6\n"
     ]
    },
    {
     "name": "stdout",
     "output_type": "stream",
     "text": [
      "Enter the numbers for the array: \n"
     ]
    },
    {
     "name": "stdin",
     "output_type": "stream",
     "text": [
      " 9\n",
      " 8\n",
      " 7\n",
      " 6\n",
      " 5\n",
      " 4\n"
     ]
    },
    {
     "name": "stdout",
     "output_type": "stream",
     "text": [
      "[9, 8, 7, 6, 5, 4]\n",
      "Yes the function is monotonic "
     ]
    }
   ],
   "source": [
    "class MonotonicDeMorgans {\n",
    "    public static void main (String[] args) {\n",
    "        Scanner scanner = new Scanner(System.in);\n",
    "        System.out.println(\"Enter the length for the array: \"); //user input for array\n",
    "        int length = scanner.nextInt();\n",
    "        int [] arr = new int [length];\n",
    "        System.out.println(\"Enter the numbers for the array: \"); // use these inputs to check if increasing or decreasing\n",
    "\n",
    "            for (int i=0; i<length; i++) {\n",
    "                arr[i] = scanner.nextInt();\n",
    "            }\n",
    "    System.out.println(Arrays.toString(arr));\n",
    "        \n",
    "    boolean answer = checkmonotonic(arr);\n",
    "    if (!(answer != true)) // if the array is only increasing or decreasing then it is monotonic\n",
    "      System.out.print(\"Yes the function is monotonic \");\n",
    "    else // if the array is doing both increasing and decreasing then it is not monotonic\n",
    "      System.out.print(\"No the function is not monotonic \");\n",
    "\n",
    "}\n",
    "    \n",
    "    public static boolean checkmonotonic(int arr[])\n",
    "  {\n",
    "    int length = arr.length;\n",
    "    boolean increasing = true;\n",
    "    boolean decreasing = true;\n",
    "    \n",
    "    for (int j = 0; j < length - 1; j++) {\n",
    "        if (!(arr[j] <= arr[j+1])) { // if the number after the first number is smaller then the numbers in the array are not increasing\n",
    "            increasing = false;\n",
    "        }\n",
    "        \n",
    "        else if (!(arr[j] >= arr[j+1])) { // else if the number after the first number is larger then the numbers in the array are not decreasing\n",
    "            decreasing = false;\n",
    "        }\n",
    "        \n",
    "        else { \n",
    "            increasing = true;\n",
    "            decreasing = true;\n",
    "        }\n",
    "    }\n",
    "    \n",
    "        \n",
    "        return increasing || decreasing; // if the array is increasing or decreasing then according to the above if outputs then the array is monotonic otherwise if both are true then not monotonic\n",
    "        \n",
    "    }\n",
    "    \n",
    "    \n",
    "    \n",
    "}\n",
    "\n",
    "MonotonicDeMorgans.main(null);"
   ]
  }
 ],
 "metadata": {
  "kernelspec": {
   "display_name": "Java",
   "language": "java",
   "name": "java"
  },
  "language_info": {
   "codemirror_mode": "java",
   "file_extension": ".jshell",
   "mimetype": "text/x-java-source",
   "name": "Java",
   "pygments_lexer": "java",
   "version": "11.0.16+8-post-Ubuntu-0ubuntu120.04"
  }
 },
 "nbformat": 4,
 "nbformat_minor": 5
}
