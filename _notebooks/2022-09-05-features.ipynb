{
 "cells": [
  {
   "cell_type": "markdown",
   "metadata": {},
   "source": [
    "# Features Menu Jupyter Notebook\n",
    "> My features for the team menu\n",
    "\n",
    "- title: Features Menu Jupyter Notebook\n",
    "- toc: false\n",
    "- categories: [jupyter]"
   ]
  },
  {
   "cell_type": "code",
   "execution_count": 43,
   "metadata": {},
   "outputs": [
    {
     "name": "stdout",
     "output_type": "stream",
     "text": [
      "Enter the two numbers: \n",
      "The two numbers are: 5 and 30\n",
      "The GCD of two numbers is: 5\n"
     ]
    }
   ],
   "source": [
    "import java.util.Scanner;\n",
    " \n",
    "public class GCD {\n",
    " \n",
    "\n",
    "public static void main(String[] args) {\n",
    "        Scanner input = new Scanner(System.in);\n",
    " \n",
    "        System.out.println(\"Enter the two numbers: \");\n",
    " \n",
    "        int a = input.nextInt();\n",
    "        int b = input.nextInt();\n",
    "        System.out.println(\"The two numbers are: \" + a + \" and \" + b);\n",
    "        System.out.println(\"The GCD of two numbers is: \" + gcd(a, b));\n",
    " \n",
    " \n",
    "}\n",
    " \n",
    "// Eucid algorithm \n",
    "public static int gcd(int a,int b)\n",
    "{\n",
    "  if(b==0)\n",
    "   return a;\n",
    "  else\n",
    "   return gcd(b,a%b);\n",
    "}\n",
    "}\n",
    "\n",
    "GCD.main(null)"
   ]
  },
  {
   "cell_type": "code",
   "execution_count": 42,
   "metadata": {},
   "outputs": [
    {
     "name": "stdout",
     "output_type": "stream",
     "text": [
      "Enter the two numbers: \n",
      "The two numbers are: 6 and 10\n",
      "The LCM of two numbers is: 30\n"
     ]
    }
   ],
   "source": [
    "import java.util.Scanner;\n",
    " \n",
    "public class LCM {\n",
    " \n",
    "\n",
    "public static void main(String[] args) {\n",
    "        (Scanner input = new Scanner(System.in);\n",
    " \n",
    "        System.out.println(\"Enter the two numbers: \");\n",
    " )\n",
    "        int a = input.nextInt();\n",
    "        int b = input.nextInt();\n",
    "        System.out.println(\"The two numbers are: \" + a + \" and \" + b);\n",
    "        System.out.println(\"The LCM of two numbers is: \" + lcm(a, b));\n",
    " \n",
    " \n",
    "}\n",
    "public static int gcd(int a,int b)\n",
    "{\n",
    "  if(b==0)\n",
    "   return a;\n",
    "  else\n",
    "   return gcd(b,a%b);\n",
    "}\n",
    "public static int lcm(int a,int b)\n",
    "{\n",
    "  return a*b/(gcd(a,b));\n",
    "}\n",
    " \n",
    "}\n",
    "LCM.main(null)"
   ]
  },
  {
   "cell_type": "code",
   "execution_count": 45,
   "metadata": {},
   "outputs": [
    {
     "name": "stdout",
     "output_type": "stream",
     "text": [
      "Enter a number: \n",
      "The number is: 9\n",
      "0 1 1 2 3 5 8 13 21 "
     ]
    }
   ],
   "source": [
    "class GFG {\n",
    "  \n",
    "    // Function to print the fibonacci series\n",
    "    static int fibonacci(int n)\n",
    "    {\n",
    "        // Base Case\n",
    "        if (n <= 1)\n",
    "            return n;\n",
    "  \n",
    "        // Recursive call\n",
    "        return fibonacci(n - 1)\n",
    "            + fibonacci(n - 2);\n",
    "    }\n",
    "  \n",
    "    // Driver Code\n",
    "    public static void main(String args[])\n",
    "    {\n",
    "        Scanner input = new Scanner(System.in);\n",
    "        System.out.println(\"Enter a number: \");\n",
    " \n",
    "        int N = input.nextInt();\n",
    "        System.out.println(\"The number is: \" + N);\n",
    "        for (int i = 0; i < N; i++) {\n",
    "  \n",
    "            System.out.print(fibonacci(i) + \" \");\n",
    "        }\n",
    "    }\n",
    "}\n",
    "\n",
    "GFG.main(null)"
   ]
  }
 ],
 "metadata": {
  "kernelspec": {
   "display_name": "Java",
   "language": "java",
   "name": "java"
  },
  "language_info": {
   "codemirror_mode": "java",
   "file_extension": ".jshell",
   "mimetype": "text/x-java-source",
   "name": "java",
   "pygments_lexer": "java",
   "version": "11.0.16+8-post-Ubuntu-0ubuntu120.04"
  },
  "orig_nbformat": 4
 },
 "nbformat": 4,
 "nbformat_minor": 2
}
