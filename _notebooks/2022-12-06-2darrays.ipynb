{
 "cells": [
  {
   "cell_type": "markdown",
   "metadata": {},
   "source": [
    "# 2d Arrays Lesson\n",
    "> 2d Arrays\n",
    "\n",
    "- title: 2d Arrays Lesson\n",
    "- toc: false\n",
    "- comments: false\n",
    "- categories: [jupyter]"
   ]
  },
  {
   "cell_type": "code",
   "execution_count": null,
   "metadata": {},
   "outputs": [],
   "source": [
    "int [][] numbers;"
   ]
  },
  {
   "cell_type": "markdown",
   "metadata": {},
   "source": [
    "## Initializing a 2D Array\n",
    "- Have to give it a value or give it a size\n",
    "- There are two ways"
   ]
  },
  {
   "cell_type": "code",
   "execution_count": null,
   "metadata": {},
   "outputs": [],
   "source": [
    "int [][] numbers1 = {{1,2,3,4},{5,6,7,8},{9,10,11,12},{13,14,15,16}};\n",
    "int[][] numbers2 = new int[4][3];"
   ]
  },
  {
   "cell_type": "markdown",
   "metadata": {},
   "source": [
    "# Iteration\n",
    "- To iterate through a normal array you could use a for loop"
   ]
  },
  {
   "cell_type": "code",
   "execution_count": null,
   "metadata": {},
   "outputs": [],
   "source": [
    "for(int i = 0;i<alphabet.length;i++){\n",
    "    for(int j = 0; j < alphabet[i].length;j++){ //nested for loops\n",
    "        System.out.print(alphabet[i][j]+\" \");\n",
    "    }\n",
    "    System.out.println(\" \");\n",
    "}"
   ]
  },
  {
   "cell_type": "markdown",
   "metadata": {},
   "source": [
    "## Accessing and Changing Elements of 2D Arrays\n",
    "- Can access using indexes"
   ]
  },
  {
   "cell_type": "code",
   "execution_count": null,
   "metadata": {},
   "outputs": [],
   "source": [
    "int[][] numbers = new int[2][2]; //method 2: Creates array with two rows and two columns\n",
    "numbers[0][0] = 1;\n",
    "numbers[0][1] = 4;\n",
    "numbers[1][0] = 9;\n",
    "numbers[1][1] = 16;"
   ]
  },
  {
   "attachments": {},
   "cell_type": "markdown",
   "metadata": {},
   "source": [
    "## HW"
   ]
  },
  {
   "cell_type": "code",
   "execution_count": 5,
   "metadata": {},
   "outputs": [
    {
     "name": "stdout",
     "output_type": "stream",
     "text": [
      "\n",
      "Forwards\n",
      "5 1 3 4 \n",
      "3 8 7 6 \n",
      "9 12 14 13 \n",
      "\n",
      "Reverse\n",
      "13 14 12 9 \n",
      "6 7 8 3 \n",
      "4 3 1 5 \n",
      "\n",
      "Input\n",
      "Row: 1\n",
      "Column: 2\n",
      "Result = 7\n",
      "\n",
      "Sum of Row Products\n",
      "product of row 0 = 15\n",
      "product of row 1 = 168\n",
      "product of row 2 = 1512\n",
      "sum of rows = 1695"
     ]
    }
   ],
   "source": [
    "import java.util.Scanner;\n",
    "\n",
    "public class Arrays{\n",
    "    int[][] numbers = {{5,1,3,4},{3,8,7,6},{9,12,14,13}};\n",
    "    public void printNum() {\n",
    "        System.out.println(\"\\nForwards\");\n",
    "        for(int i = 0; i < numbers.length; i++){\n",
    "            for(int j = 0; j < numbers[i].length; j++){\n",
    "                System.out.print(numbers[i][j] + \" \");\n",
    "            }\n",
    "\n",
    "            System.out.println();\n",
    "\n",
    "        }\n",
    "    }\n",
    "\n",
    "    public void reverse() {\n",
    "        System.out.println(\"\\nReverse\");\n",
    "        for (int i = numbers.length - 1; i >= 0; i--){\n",
    "            for(int j = numbers[i].length - 1; j >= 0; j--) {\n",
    "                System.out.print(numbers[i][j]+ \" \");\n",
    "            }\n",
    "\n",
    "            System.out.println();\n",
    "        }\n",
    "}\n",
    "\n",
    "    public void userInput(){\n",
    "        System.out.println(\"\\nInput\");\n",
    "        Scanner scanner = new Scanner(System.in);\n",
    "\n",
    "        System.out.print(\"Row: \");\n",
    "        int rowIndex = scanner.nextInt();\n",
    "        System.out.println(rowIndex);\n",
    "\n",
    "        System.out.print(\"Column: \");\n",
    "        int columnIndex = scanner.nextInt();\n",
    "        System.out.println(columnIndex);\n",
    "\n",
    "        System.out.println(\"Result = \" + numbers[rowIndex][columnIndex]);\n",
    "\n",
    "    }\n",
    "\n",
    "    public void sumOfProducts(){\n",
    "        System.out.println(\"\\nSum of Row Products\");\n",
    "        int a = 1;\n",
    "        int b = 0;\n",
    "\n",
    "        for (int j = 0; j < numbers.length; j++) {\n",
    "            for(int i = 0; i < numbers.length; i++){\n",
    "                a = a*numbers[j][i];\n",
    "            }\n",
    "        \n",
    "            b = b + a;\n",
    "            System.out.println(\"product of row \" + j + \" = \" + a);\n",
    "            a = 1;\n",
    "        }\n",
    "        System.out.print(\"sum of rows = \" + b);\n",
    "    }\n",
    "\n",
    "    public static void main(String[] args){\n",
    "        Arrays array = new Arrays();\n",
    "        array.printNum();\n",
    "        array.reverse();\n",
    "        array.userInput();\n",
    "        array.sumOfProducts();\n",
    "    }\n",
    "}\n",
    "Arrays.main(null);\n",
    "\n",
    "\n"
   ]
  }
 ],
 "metadata": {
  "kernelspec": {
   "display_name": "Java",
   "language": "java",
   "name": "java"
  },
  "language_info": {
   "codemirror_mode": "java",
   "file_extension": ".jshell",
   "mimetype": "text/x-java-source",
   "name": "java",
   "pygments_lexer": "java",
   "version": "11.0.16+8-post-Ubuntu-0ubuntu120.04"
  },
  "orig_nbformat": 4
 },
 "nbformat": 4,
 "nbformat_minor": 2
}
