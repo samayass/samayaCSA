{
 "cells": [
  {
   "cell_type": "markdown",
   "id": "9bfb2e9b-cceb-41fd-8144-edd45fa6180b",
   "metadata": {
    "tags": []
   },
   "source": [
    "# TT 1 - Java Jupyter Notebook"
   ]
  },
  {
   "cell_type": "code",
   "execution_count": null,
   "id": "5ce4efd9-a830-4504-ac7e-981aae77aedf",
   "metadata": {},
   "outputs": [],
   "source": [
    "public class Hello {\n",
    "    public static void main(String[] args) {\n",
    "        System.out.println(\"Hello World!\");\n",
    "    }\n",
    "}\n",
    "\n",
    "Hello.main(null);"
   ]
  }
 ],
 "metadata": {
  "kernelspec": {
   "display_name": "Java",
   "language": "java",
   "name": "java"
  },
  "language_info": {
   "codemirror_mode": "java",
   "file_extension": ".jshell",
   "mimetype": "text/x-java-source",
   "name": "Java",
   "pygments_lexer": "java",
   "version": "11.0.16+8-post-Ubuntu-0ubuntu120.04"
  }
 },
 "nbformat": 4,
 "nbformat_minor": 5
}
