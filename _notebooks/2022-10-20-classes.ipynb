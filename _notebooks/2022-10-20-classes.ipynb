{
 "cells": [
  {
   "attachments": {},
   "cell_type": "markdown",
   "metadata": {},
   "source": [
    "# Writing Classes Student Lesson\n",
    "> Classes\n",
    "\n",
    "- title: Writing Classes Student Lesson\n",
    "- toc: false\n",
    "- comments: false\n",
    "- categories: [AP]"
   ]
  },
  {
   "cell_type": "markdown",
   "metadata": {},
   "source": [
    "## Classes\n",
    "- blueprints for instantiating objects\n",
    "- model real world objects in code\n",
    "\n",
    "## Anatomy of a Class\n",
    "- Object\n",
    "    - instance of a class\n",
    "- Class \n",
    "    - defines an abstract type\n",
    "- Methods\n",
    "    - behaviors you can get the object to do\n",
    "- Constructors\n",
    "    - creates the object\n",
    "    - special method for object instantiation\n",
    "    - default constructor has no arguments\n",
    "- Main method\n",
    "    - test the class\n",
    "\n",
    "## Accessor Methods\n",
    "- Get of methods or getters\n",
    "    - allows you to get values of variables\n",
    "    - return a copy\n",
    "- Non-void Methods\n",
    "    - value of specific data type returned\n",
    "    - no parameteres\n",
    "\n",
    "## Mutator Methods\n",
    "- Set of methods or setters\n",
    "    - allows you to change the value of the variable\n",
    "- Void Methods\n",
    "    - no value returned\n",
    "    - will take parameters\n",
    "\n",
    "## Writing Classses\n",
    "- Method defintion\n",
    "- Method Signature\n",
    "- Method body\n",
    "\n",
    "## Key Words\n",
    "- /Static Modifiers\n",
    "    - used after access modifiers\n",
    "    - denotes as belonging to a class\n",
    "- /This\n",
    "    - refers to the constructor that is being called\n",
    "- Access Modifiers\n",
    "    - Restricts scope of classes, variables and functions\n",
    "\n",
    "## Scope and Access\n",
    "- /Scope\n",
    "    - Where a variable can be accessed/used\n",
    "    - Class level: Instance Var\n",
    "    - Method level: Local, parameter var\n",
    "    - Block level: If else/ Loops\n",
    "\n",
    "## 2021 1a and 3a\n",
    "\n",
    "\n"
   ]
  },
  {
   "cell_type": "code",
   "execution_count": null,
   "metadata": {
    "vscode": {
     "languageId": "java"
    }
   },
   "outputs": [],
   "source": [
    "public int scoreGuess (String guess)\n",
    "int count = 0;\n",
    "for (int i = 0; i <= secret.length() - guess.length(); i++){\n",
    "    if (secret.substring(i, i + guess.length()).equals (guess)){\n",
    "        count++;\n",
    "    }\n",
    "}\n",
    "return count * guess.length() * guess.length();\n",
    "\n"
   ]
  },
  {
   "cell_type": "code",
   "execution_count": null,
   "metadata": {
    "vscode": {
     "languageId": "java"
    }
   },
   "outputs": [],
   "source": [
    "public void addMembers(String[] names, int gradYear ){\n",
    "    \n",
    "for( String n : names ){\n",
    "    memberList.add(new MemberInfo( n, gradYear, true) );\n",
    "}\n",
    "}"
   ]
  }
 ],
 "metadata": {
  "language_info": {
   "name": "python"
  },
  "orig_nbformat": 4
 },
 "nbformat": 4,
 "nbformat_minor": 2
}
