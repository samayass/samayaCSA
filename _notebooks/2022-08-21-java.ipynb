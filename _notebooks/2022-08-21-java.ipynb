{
 "cells": [
  {
   "cell_type": "raw",
   "id": "47b100a9-7e2d-4e59-8250-d1d57f93aef9",
   "metadata": {
    "tags": []
   },
   "source": [
    "# \"Java Jupyter Notebook\"\n",
    "> \"Jupyter Notebook for Java\"\n",
    "\n",
    "- title: Java Jupyter Notebook\n",
    "- toc: false\n",
    "- categories: [jupyter]"
   ]
  },
  {
   "cell_type": "code",
   "execution_count": 2,
   "id": "79eace36-0b63-4c73-8957-30b4bfdc2ea9",
   "metadata": {},
   "outputs": [
    {
     "name": "stdout",
     "output_type": "stream",
     "text": [
      "Hello World!\n"
     ]
    }
   ],
   "source": [
    "public class Hello {\n",
    "    public static void main(String[] args) {\n",
    "        System.out.println(\"Hello World!\");\n",
    "    }\n",
    "}\n",
    "\n",
    "Hello.main(null);"
   ]
  }
 ],
 "metadata": {
  "kernelspec": {
   "display_name": "Java",
   "language": "java",
   "name": "java"
  },
  "language_info": {
   "codemirror_mode": "java",
   "file_extension": ".jshell",
   "mimetype": "text/x-java-source",
   "name": "Java",
   "pygments_lexer": "java",
   "version": "11.0.16+8-post-Ubuntu-0ubuntu120.04"
  }
 },
 "nbformat": 4,
 "nbformat_minor": 5
}
