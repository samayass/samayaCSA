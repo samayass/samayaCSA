{
 "cells": [
  {
   "cell_type": "raw",
   "id": "bb1cd24e-25a3-4c25-a0f2-c69e7db2cbfc",
   "metadata": {
    "tags": []
   },
   "source": [
    "# Java Jupyter Notebook\n",
    "> Jupyter Notebook for Java\n",
    "\n",
    "- title: Java Jupyter Notebook\n",
    "- toc: false\n",
    "- categories: [jupyter]"
   ]
  },
  {
   "cell_type": "code",
   "execution_count": null,
   "id": "923ef020-ee63-466c-975b-6c42de171067",
   "metadata": {},
   "outputs": [],
   "source": [
    "public class Hello {\n",
    "    public static void main(String[] args) {\n",
    "        System.out.println(\"Hello World!\");\n",
    "    }\n",
    "}\n",
    "\n",
    "Hello.main(null);"
   ]
  }
 ],
 "metadata": {
  "kernelspec": {
   "display_name": "Java",
   "language": "java",
   "name": "java"
  },
  "language_info": {
   "codemirror_mode": "java",
   "file_extension": ".jshell",
   "mimetype": "text/x-java-source",
   "name": "Java",
   "pygments_lexer": "java",
   "version": "11.0.16+8-post-Ubuntu-0ubuntu120.04"
  }
 },
 "nbformat": 4,
 "nbformat_minor": 5
}
