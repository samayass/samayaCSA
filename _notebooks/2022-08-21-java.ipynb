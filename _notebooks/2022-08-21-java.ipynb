{
 "cells": [
  {
   "cell_type": "markdown",
   "metadata": {},
   "source": [
    "# TT 1: Java Jupyter Notebook\n",
    "> Jupyter Notebook: Java\n",
    "\n",
    "- title: Java Jupyter Notebook\n",
    "- toc: false\n",
    "- categories: [units]"
   ]
  }
{
 "cells": [
  {
   "cell_type": "code",
   "execution_count": 2,
   "id": "cc650248-4407-4d4e-95ff-cb271bd369e1",
   "metadata": {},
   "outputs": [
    {
     "name": "stdout",
     "output_type": "stream",
     "text": [
      "Hello World!\n"
     ]
    }
   ],
   "source": [
    "public class Hello {\n",
    "    public static void main(String[] args) {\n",
    "        System.out.println(\"Hello World!\");\n",
    "    }\n",
    "}\n",
    "\n",
    "Hello.main(null);"
   ]
  },
  {
   "cell_type": "code",
   "execution_count": null,
   "id": "7aa4f87c-b66a-46f6-a9fb-e97bf87c77ed",
   "metadata": {},
   "outputs": [],
   "source": []
  }
 ],
 "metadata": {
  "kernelspec": {
   "display_name": "Java",
   "language": "java",
   "name": "java"
  },
  "language_info": {
   "codemirror_mode": "java",
   "file_extension": ".jshell",
   "mimetype": "text/x-java-source",
   "name": "Java",
   "pygments_lexer": "java",
   "version": "11.0.16+8-post-Ubuntu-0ubuntu120.04"
  }
 },
 "nbformat": 4,
 "nbformat_minor": 5
}
