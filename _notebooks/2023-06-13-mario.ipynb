{
 "cells": [
  {
   "cell_type": "code",
   "execution_count": 2,
   "metadata": {},
   "outputs": [
    {
     "data": {
      "text/html": [
       "<style>\n",
       "    canvas {\n",
       "        margin:0;\n",
       "        display: flex;\n",
       "        align-items: center;\n",
       "        justify-content:center;\n",
       "        height: 20vh;\n",
       "    }\n",
       "</style>\n",
       "<canvas></canvas>\n"
      ],
      "text/plain": [
       "<IPython.core.display.HTML object>"
      ]
     },
     "metadata": {},
     "output_type": "display_data"
    }
   ],
   "source": [
    "%%html\n",
    "<style>\n",
    "    canvas {\n",
    "        margin:0;\n",
    "        display: flex;\n",
    "        align-items: center;\n",
    "        justify-content:center;\n",
    "        height: 20vh;\n",
    "    }\n",
    "</style>\n",
    "<canvas></canvas>\n"
   ]
  },
  {
   "cell_type": "code",
   "execution_count": 3,
   "metadata": {},
   "outputs": [
    {
     "data": {
      "application/javascript": "const canvas = document.querySelector('canvas');\nconst c = canvas.getContext('2d');\n\ncanvas.width = 600;\ncanvas.height = 576;\n\nlet gravity = 1.5;\n\nclass Player {\n  constructor() {\n    this.position = {\n      x: 100,\n      y: canvas.height - 100\n    };\n    this.velocity = {\n      x: 0,\n      y: 0\n    };\n    this.width = 30;\n    this.height = 30;\n\n    this.color = 'red';\n  }\n\n  draw() {\n    c.fillStyle = this.color;\n    c.fillRect(\n      this.position.x,\n      this.position.y,\n      this.width,\n      this.height\n    );\n  }\n\n  update() {\n    this.position.y += this.velocity.y;\n    this.position.x += this.velocity.x;\n\n    // Boundary checks\n    if (this.position.y + this.height >= canvas.height) {\n      this.position.y = canvas.height - this.height;\n      this.velocity.y = 0;\n    } else if (this.position.y <= 0) {\n      this.position.y = 0;\n      this.velocity.y = 0;\n    }\n\n    if (this.position.x + this.width >= canvas.width) {\n      this.position.x = canvas.width - this.width;\n      this.velocity.x = 0;\n    } else if (this.position.x <= 0) {\n      this.position.x = 0;\n      this.velocity.x = 0;\n    }\n\n    this.draw();\n  }\n}\n\nlet player = new Player();\n\nfunction animate() {\n  requestAnimationFrame(animate);\n  c.clearRect(0, 0, canvas.width, canvas.height);\n  player.update();\n}\n\nanimate();\n\nfunction handleKeyDown(event) {\n  const speed = 10;\n\n  if (event.key === 'ArrowUp') {\n    player.velocity.y = -speed;\n  } else if (event.key === 'ArrowDown') {\n    player.velocity.y = speed;\n  } else if (event.key === 'ArrowLeft') {\n    player.velocity.x = -speed;\n  } else if (event.key === 'ArrowRight') {\n    player.velocity.x = speed;\n  }\n}\n\nfunction handleKeyUp(event) {\n  if (\n    event.key === 'ArrowUp' ||\n    event.key === 'ArrowDown' ||\n    event.key === 'ArrowLeft' ||\n    event.key === 'ArrowRight'\n  ) {\n    player.velocity.x = 0;\n    player.velocity.y = 0;\n  }\n}\n\ndocument.addEventListener('keydown', handleKeyDown);\ndocument.addEventListener('keyup', handleKeyUp);\n",
      "text/plain": [
       "<IPython.core.display.Javascript object>"
      ]
     },
     "metadata": {},
     "output_type": "display_data"
    }
   ],
   "source": [
    "%%javascript\n",
    "const canvas = document.querySelector('canvas');\n",
    "const c = canvas.getContext('2d');\n",
    "\n",
    "canvas.width = 600;\n",
    "canvas.height = 576;\n",
    "\n",
    "let gravity = 1.5;\n",
    "\n",
    "class Player {\n",
    "  constructor() {\n",
    "    this.position = {\n",
    "      x: 100,\n",
    "      y: canvas.height - 100\n",
    "    };\n",
    "    this.velocity = {\n",
    "      x: 0,\n",
    "      y: 0\n",
    "    };\n",
    "    this.width = 30;\n",
    "    this.height = 30;\n",
    "\n",
    "    this.color = 'red';\n",
    "  }\n",
    "\n",
    "  draw() {\n",
    "    c.fillStyle = this.color;\n",
    "    c.fillRect(\n",
    "      this.position.x,\n",
    "      this.position.y,\n",
    "      this.width,\n",
    "      this.height\n",
    "    );\n",
    "  }\n",
    "\n",
    "  update() {\n",
    "    this.position.y += this.velocity.y;\n",
    "    this.position.x += this.velocity.x;\n",
    "\n",
    "    // Boundary checks\n",
    "    if (this.position.y + this.height >= canvas.height) {\n",
    "      this.position.y = canvas.height - this.height;\n",
    "      this.velocity.y = 0;\n",
    "    } else if (this.position.y <= 0) {\n",
    "      this.position.y = 0;\n",
    "      this.velocity.y = 0;\n",
    "    }\n",
    "\n",
    "    if (this.position.x + this.width >= canvas.width) {\n",
    "      this.position.x = canvas.width - this.width;\n",
    "      this.velocity.x = 0;\n",
    "    } else if (this.position.x <= 0) {\n",
    "      this.position.x = 0;\n",
    "      this.velocity.x = 0;\n",
    "    }\n",
    "\n",
    "    this.draw();\n",
    "  }\n",
    "}\n",
    "\n",
    "let player = new Player();\n",
    "\n",
    "function animate() {\n",
    "  requestAnimationFrame(animate);\n",
    "  c.clearRect(0, 0, canvas.width, canvas.height);\n",
    "  player.update();\n",
    "}\n",
    "\n",
    "animate();\n",
    "\n",
    "function handleKeyDown(event) {\n",
    "  const speed = 10;\n",
    "\n",
    "  if (event.key === 'ArrowUp') {\n",
    "    player.velocity.y = -speed;\n",
    "  } else if (event.key === 'ArrowDown') {\n",
    "    player.velocity.y = speed;\n",
    "  } else if (event.key === 'ArrowLeft') {\n",
    "    player.velocity.x = -speed;\n",
    "  } else if (event.key === 'ArrowRight') {\n",
    "    player.velocity.x = speed;\n",
    "  }\n",
    "}\n",
    "\n",
    "function handleKeyUp(event) {\n",
    "  if (\n",
    "    event.key === 'ArrowUp' ||\n",
    "    event.key === 'ArrowDown' ||\n",
    "    event.key === 'ArrowLeft' ||\n",
    "    event.key === 'ArrowRight'\n",
    "  ) {\n",
    "    player.velocity.x = 0;\n",
    "    player.velocity.y = 0;\n",
    "  }\n",
    "}\n",
    "\n",
    "document.addEventListener('keydown', handleKeyDown);\n",
    "document.addEventListener('keyup', handleKeyUp);\n"
   ]
  }
 ],
 "metadata": {
  "kernelspec": {
   "display_name": "Python 3 (ipykernel)",
   "language": "python",
   "name": "python3"
  },
  "orig_nbformat": 4
 },
 "nbformat": 4,
 "nbformat_minor": 2
}
