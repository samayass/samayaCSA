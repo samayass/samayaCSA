{
 "cells": [
  {
   "attachments": {},
   "cell_type": "markdown",
   "metadata": {},
   "source": [
    "# Mario Lesson\n",
    "\n",
    "- toc: false\n",
    "- badges: true\n",
    "- categories: [tri3]"
   ]
  },
  {
   "cell_type": "code",
   "execution_count": 3,
   "metadata": {},
   "outputs": [
    {
     "data": {
      "text/html": [
       "<style>\n",
       "    canvas {\n",
       "        margin:0;\n",
       "        /* background-color: black; */\n",
       "        display: flex;\n",
       "        align-items: center;\n",
       "        justify-content:center;\n",
       "        height: 10vh;\n",
       "    }\n",
       "</style>\n",
       "<canvas></canvas>\n"
      ],
      "text/plain": [
       "<IPython.core.display.HTML object>"
      ]
     },
     "metadata": {},
     "output_type": "display_data"
    }
   ],
   "source": [
    "%%html\n",
    "<style>\n",
    "    canvas {\n",
    "        margin:0;\n",
    "        /* background-color: black; */\n",
    "        display: flex;\n",
    "        align-items: center;\n",
    "        justify-content:center;\n",
    "        height: 10vh;\n",
    "    }\n",
    "</style>\n",
    "<canvas></canvas>"
   ]
  },
  {
   "cell_type": "code",
   "execution_count": 4,
   "metadata": {},
   "outputs": [
    {
     "data": {
      "application/javascript": "const canvas = document.querySelector('canvas');\nconst c = canvas.getContext('2d');\ncanvas.width = 1700;\ncanvas.height = 576;\nlet gravity = 1.5;\nclass Player {\n  constructor() {\n    this.position = {\n      x: 100,\n      y: canvas.height - 100\n    };\n    this.velocity = {\n      x: 0,\n      y: 0\n    };\n    this.width = 60;\n    this.height = 60;\n    this.color = 'red';\n    this.jumping = false; // Track if the player is jumping\n  }\n  draw() {\n    c.fillStyle = this.color;\n    c.fillRect(\n      this.position.x,\n      this.position.y,\n      this.width,\n      this.height\n    );\n  }\n  update() {\n    this.position.y += this.velocity.y;\n    this.position.x += this.velocity.x;\n    // Boundary checks\n    if (this.position.y + this.height >= canvas.height) {\n      this.position.y = canvas.height - this.height;\n      this.velocity.y = 0;\n      this.jumping = false; // Allow jumping when player is on the ground\n    } else if (this.position.y <= 0) {\n      this.position.y = 0;\n      this.velocity.y = 0;\n    }\n    else {\n        this.velocity.y += gravity;\n    }\n    if (this.position.x + this.width >= canvas.width) {\n      this.position.x = canvas.width - this.width;\n      this.velocity.x = 0;\n    } else if (this.position.x <= 0) {\n      this.position.x = 0;\n      this.velocity.x = 0;\n    }\n    this.draw();\n  }\n  jump() {\n    if (!this.jumping) {\n      this.velocity.y = -20; // Adjust the jump velocity as needed\n      this.jumping = true;\n    }\n  }\n}\nlet player = new Player();\nfunction animate() {\n  requestAnimationFrame(animate);\n  c.clearRect(0, 0, canvas.width, canvas.height);\n  player.update();\n}\nanimate();\nfunction handleKeyDown(event) {\n  const speed = 10;\n  if (event.key === 'w') {\n    player.jump(); // Call the jump method instead of directly setting velocity\n  } else if (event.key === 's') {\n    player.velocity.y = speed;\n  } else if (event.key === 'a') {\n    player.velocity.x = -speed;\n  } else if (event.key === 'd') {\n    player.velocity.x = speed;\n  }\n}\nfunction handleKeyUp(event) {\n  if (\n    event.key === 'a' ||\n    event.key === 'd'\n  ) {\n    player.velocity.x = 0;\n  }\n}\ndocument.addEventListener('keydown', handleKeyDown);\ndocument.addEventListener('keyup', handleKeyUp);\n",
      "text/plain": [
       "<IPython.core.display.Javascript object>"
      ]
     },
     "metadata": {},
     "output_type": "display_data"
    }
   ],
   "source": [
    "%%javascript\n",
    "const canvas = document.querySelector('canvas');\n",
    "const c = canvas.getContext('2d');\n",
    "canvas.width = 1700;\n",
    "canvas.height = 576;\n",
    "let gravity = 1.5;\n",
    "class Player {\n",
    "  constructor() {\n",
    "    this.position = {\n",
    "      x: 100,\n",
    "      y: canvas.height - 100\n",
    "    };\n",
    "    this.velocity = {\n",
    "      x: 0,\n",
    "      y: 0\n",
    "    };\n",
    "    this.width = 60;\n",
    "    this.height = 60;\n",
    "    this.color = 'red';\n",
    "    this.jumping = false; // Track if the player is jumping\n",
    "  }\n",
    "  draw() {\n",
    "    c.fillStyle = this.color;\n",
    "    c.fillRect(\n",
    "      this.position.x,\n",
    "      this.position.y,\n",
    "      this.width,\n",
    "      this.height\n",
    "    );\n",
    "  }\n",
    "  update() {\n",
    "    this.position.y += this.velocity.y;\n",
    "    this.position.x += this.velocity.x;\n",
    "    // Boundary checks\n",
    "    if (this.position.y + this.height >= canvas.height) {\n",
    "      this.position.y = canvas.height - this.height;\n",
    "      this.velocity.y = 0;\n",
    "      this.jumping = false; // Allow jumping when player is on the ground\n",
    "    } else if (this.position.y <= 0) {\n",
    "      this.position.y = 0;\n",
    "      this.velocity.y = 0;\n",
    "    }\n",
    "    else {\n",
    "        this.velocity.y += gravity;\n",
    "    }\n",
    "    if (this.position.x + this.width >= canvas.width) {\n",
    "      this.position.x = canvas.width - this.width;\n",
    "      this.velocity.x = 0;\n",
    "    } else if (this.position.x <= 0) {\n",
    "      this.position.x = 0;\n",
    "      this.velocity.x = 0;\n",
    "    }\n",
    "    this.draw();\n",
    "  }\n",
    "  jump() {\n",
    "    if (!this.jumping) {\n",
    "      this.velocity.y = -20; // Adjust the jump velocity as needed\n",
    "      this.jumping = true;\n",
    "    }\n",
    "  }\n",
    "}\n",
    "let player = new Player();\n",
    "function animate() {\n",
    "  requestAnimationFrame(animate);\n",
    "  c.clearRect(0, 0, canvas.width, canvas.height);\n",
    "  player.update();\n",
    "}\n",
    "animate();\n",
    "function handleKeyDown(event) {\n",
    "  const speed = 10;\n",
    "  if (event.key === 'w') {\n",
    "    player.jump(); // Call the jump method instead of directly setting velocity\n",
    "  } else if (event.key === 's') {\n",
    "    player.velocity.y = speed;\n",
    "  } else if (event.key === 'a') {\n",
    "    player.velocity.x = -speed;\n",
    "  } else if (event.key === 'd') {\n",
    "    player.velocity.x = speed;\n",
    "  }\n",
    "}\n",
    "function handleKeyUp(event) {\n",
    "  if (\n",
    "    event.key === 'a' ||\n",
    "    event.key === 'd'\n",
    "  ) {\n",
    "    player.velocity.x = 0;\n",
    "  }\n",
    "}\n",
    "document.addEventListener('keydown', handleKeyDown);\n",
    "document.addEventListener('keyup', handleKeyUp);"
   ]
  }
 ],
 "metadata": {
  "kernelspec": {
   "display_name": "Python 3 (ipykernel)",
   "language": "python",
   "name": "python3"
  },
  "orig_nbformat": 4
 },
 "nbformat": 4,
 "nbformat_minor": 2
}
