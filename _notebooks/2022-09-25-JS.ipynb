{
 "cells": [
  {
   "cell_type": "code",
   "execution_count": 9,
   "id": "46dd3bff-d8dc-48cd-bd3a-cf576d6f366a",
   "metadata": {},
   "outputs": [],
   "source": [
    "function logItType(output) {\n",
    "    console.log(typeof output, \";\", output);\n",
    "}"
   ]
  },
  {
   "cell_type": "code",
   "execution_count": 10,
   "id": "9cd43988-f1bb-4ac0-bc90-072f1d0c624e",
   "metadata": {},
   "outputs": [
    {
     "name": "stdout",
     "output_type": "stream",
     "text": [
      "object ; Analysis { numbers: '1,2,3,1', mean: '7/4', mode: '1', role: '' }\n",
      "string ; {\"name\":\"1,2,3,1\",\"mean\":\"7/4\",\"mode\":\"1\",\"role\":\"\"}\n",
      "object ; Analysis { numbers: '1,2,3,1', mean: '7/4', mode: '1', role: 'Main Set' }\n",
      "string ; {\"name\":\"1,2,3,1\",\"mean\":\"7/4\",\"mode\":\"1\",\"role\":\"Main Set\"}\n"
     ]
    }
   ],
   "source": [
    "// define a function to hold data for a Person\n",
    "function Analysis(numbers, mean, mode) {\n",
    "    this.numbers = numbers;\n",
    "    this.mean = mean;\n",
    "    this.mode = mode;\n",
    "    this.role = \"\";\n",
    "}\n",
    "\n",
    "// define a setter for role in Person data\n",
    "Analysis.prototype.setRole = function(role) {\n",
    "    this.role = role;\n",
    "}\n",
    "\n",
    "// define a JSON conversion \"method\" associated with Person\n",
    "Analysis.prototype.toJSON = function() {\n",
    "    const obj = {name: this.numbers, mean: this.mean, mode: this.mode, role: this.role};\n",
    "    const json = JSON.stringify(obj);  // json/string is useful when passing data on internet\n",
    "    return json;\n",
    "}\n",
    "\n",
    "var mainset = new Analysis(\"1,2,3,1\", \"7/4\", \"1\");  // object type is easy to work with in JavaScript\n",
    "logItType(mainset);  // before role\n",
    "logItType(mainset.toJSON());  // ok to do this even though role is not yet defined\n",
    "\n",
    "// output of Object and JSON/string associated with Teacher\n",
    "mainset.setRole(\"Main Set\");   // set the role\n",
    "logItType(mainset); \n",
    "logItType(mainset.toJSON());"
   ]
  },
  {
   "cell_type": "code",
   "execution_count": 11,
   "id": "0c053c38-9e8e-4590-847f-cb9ffc388e8c",
   "metadata": {},
   "outputs": [
    {
     "name": "stdout",
     "output_type": "stream",
     "text": [
      "object ; [ Analysis { numbers: '1,2,3,1', mean: '7/4', mode: '1', role: 'Main Set' },\n",
      "  Analysis { numbers: '1,4,3,4', mean: '3', mode: '4', role: 'Numbers' },\n",
      "  Analysis { numbers: '4,2,2,2', mean: '10/4', mode: '2', role: 'Numbers' },\n",
      "  Analysis { numbers: '9,8,7,8', mean: '8', mode: '8', role: 'Numbers' },\n",
      "  Analysis { numbers: '0,0,0,9', mean: '9/4', mode: '0', role: 'Numbers' },\n",
      "  Analysis { numbers: '1,9,9,2', mean: '21/4', mode: '9', role: 'Numbers' } ]\n",
      "undefined ; undefined\n",
      "string ; {\"name\":\"1,2,3,1\",\"mean\":\"7/4\",\"mode\":\"1\",\"role\":\"Main Set\"}\n",
      "object ; { name: '1,2,3,1', mean: '7/4', mode: '1', role: 'Main Set' }\n"
     ]
    }
   ],
   "source": [
    "// define a student Array of Person(s)\n",
    "var numbers = [ \n",
    "    new Analysis(\"1,4,3,4\", \"3\", \"4\"),\n",
    "    new Analysis(\"4,2,2,2\", \"10/4\", \"2\"),\n",
    "    new Analysis(\"9,8,7,8\", \"8\", \"8\"),\n",
    "    new Analysis(\"0,0,0,9\", \"9/4\", \"0\"),\n",
    "    new Analysis(\"1,9,9,2\", \"21/4\", \"9\")\n",
    "];\n",
    "\n",
    "// define a classroom and build Classroom objects and json\n",
    "function Set(students){ // 1 teacher, many student\n",
    "    // add each Student to Classroom\n",
    "    mainset.setRole(\"Main Set\");\n",
    "    this.mainset = mainset;\n",
    "    this.classroom = [mainset];\n",
    "    this.numbers = numbers;\n",
    "    this.numbers.forEach(numbers => { numbers.setRole(\"Numbers\"); this.classroom.push(numbers); });\n",
    "    // build json/string format of Classroom\n",
    "    this.json = [];\n",
    "    this.classroom.forEach(numbers => this.json.push(numbers.toJSON()));\n",
    "}\n",
    "\n",
    "math = new Set(numbers);\n",
    "\n",
    "// output of Objects and JSON in CompSci classroom\n",
    "logItType(math.classroom);  // constructed classroom object\n",
    "logItType(math.classroom[0].name);  // abstract 1st objects name\n",
    "logItType(math.json[0]);  // show json conversion of 1st object to string\n",
    "logItType(JSON.parse(math.json[0]));  // show JSON.parse inverse of JSON.stringify"
   ]
  },
  {
   "cell_type": "code",
   "execution_count": 15,
   "id": "5b8b2cd0-bbcb-481b-9dcd-9d195379080d",
   "metadata": {},
   "outputs": [
    {
     "data": {
      "text/html": [
       "<div style='display:inline-block;border: 2px solid grey;box-shadow: 0.8em 0.4em 0.4em grey;'><table><tr><th><mark>Numbers</mark></th><th><mark>Mean</mark></th><th><mark>Mode</mark></th></tr><tr><td>1,2,3,1</td><td>7/4</td><td>1</td><tr><tr><td>1,4,3,4</td><td>3</td><td>4</td><tr><tr><td>4,2,2,2</td><td>10/4</td><td>2</td><tr><tr><td>9,8,7,8</td><td>8</td><td>8</td><tr><tr><td>0,0,0,9</td><td>9/4</td><td>0</td><tr><tr><td>1,9,9,2</td><td>21/4</td><td>9</td><tr></table></div>"
      ]
     },
     "execution_count": 15,
     "metadata": {},
     "output_type": "execute_result"
    }
   ],
   "source": [
    "// define an HTML conversion \"method\" associated with Classroom\n",
    "Set.prototype._toHtml = function() {\n",
    "  // HTML Style is build using inline structure\n",
    "  var style = (\n",
    "    \"display:inline-block;\" +\n",
    "    \"border: 2px solid grey;\" +\n",
    "    \"box-shadow: 0.8em 0.4em 0.4em grey;\"\n",
    "  );\n",
    "\n",
    "  // HTML Body of Table is build as a series of concatenations (+=)\n",
    "  var body = \"\";\n",
    "  // Heading for Array Columns\n",
    "  body += \"<tr>\";\n",
    "  body += \"<th><mark>\" + \"Numbers\" + \"</mark></th>\";\n",
    "  body += \"<th><mark>\" + \"Mean\" + \"</mark></th>\";\n",
    "  body += \"<th><mark>\" + \"Mode\" + \"</mark></th>\";\n",
    "  body += \"</tr>\";\n",
    "  // Data of Array, iterate through each row of compsci.classroom \n",
    "  for (var row in math.classroom) {\n",
    "    // tr for each row, a new line\n",
    "    body += \"<tr>\";\n",
    "    // td for each column of data\n",
    "    body += \"<td>\" + math.classroom[row].numbers + \"</td>\";\n",
    "    body += \"<td>\" + math.classroom[row].mean + \"</td>\";\n",
    "    body += \"<td>\" + math.classroom[row].mode + \"</td>\";\n",
    "    // tr to end line\n",
    "    body += \"<tr>\";\n",
    "  }\n",
    "\n",
    "   // Build and HTML fragment of div, table, table body\n",
    "  return (\n",
    "    \"<div style='\" + style + \"'>\" +\n",
    "      \"<table>\" +\n",
    "        body +\n",
    "      \"</table>\" +\n",
    "    \"</div>\"\n",
    "  );\n",
    "\n",
    "};\n",
    "\n",
    "// IJavaScript HTML processor receive parameter of defined HTML fragment\n",
    "$$.html(math._toHtml());"
   ]
  },
  {
   "cell_type": "code",
   "execution_count": null,
   "id": "4a0a0bc0-4aa8-4613-8527-2b6d2ca155b3",
   "metadata": {},
   "outputs": [],
   "source": []
  }
 ],
 "metadata": {
  "kernelspec": {
   "display_name": "JavaScript (Node.js)",
   "language": "javascript",
   "name": "javascript"
  },
  "language_info": {
   "file_extension": ".js",
   "mimetype": "application/javascript",
   "name": "javascript",
   "version": "6.11.2"
  }
 },
 "nbformat": 4,
 "nbformat_minor": 5
}
