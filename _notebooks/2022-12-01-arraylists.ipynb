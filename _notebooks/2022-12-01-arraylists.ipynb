{
 "cells": [
  {
   "cell_type": "markdown",
   "metadata": {},
   "source": [
    "# Arraylists Lesson\n",
    "> Arraylists\n",
    "\n",
    "- title: Arraylists Lesson\n",
    "- toc: true\n",
    "- comments: false\n",
    "- categories: [jupyter]"
   ]
  },
  {
   "cell_type": "markdown",
   "metadata": {},
   "source": [
    "## Introductions\n",
    "- A reference type\n",
    "- Array cannot be modified while ArrayLists can change size dynamically\n",
    "\n",
    "## Methods\n",
    "- add(int index, element) ...\n",
    "\n",
    "## Traversing ArrayLists\n",
    "- For Loop\n",
    "- While Loop\n",
    "- Enhanced ForLoop\n",
    "\n",
    "## Searching\n",
    "- The locating of data within linear structures\n",
    "- Searching a structure involves control structures - iterationnal and selection - loop with an if statement\n",
    "- For loops are optimal for linear searching because each element needs to be specified sequentiallly with no need to trcak the index after its executed\n",
    "- Order matters sometimes in searching\n",
    "\n",
    "## Sorting \n",
    "- Sorting sorts the ArrayList in a specified order (ascending or descending)\n",
    "- Collections.sort[(list.name)] - sort in ascending order\n",
    "- Collections.sort[(ArrayList,Collections.reverseOrder())] - sort in ascending order\n",
    "\n",
    "## HW\n",
    "Create an ArrayList that includes 2 of the 4 factors listed below.\n",
    "\n",
    "Sort an ArrayList in descending order and swap the first and last elements\n",
    "Find and display the hashCode of an Arraylist before and after being sorted\n",
    "Return \"ascending\" if the list is sorted in ascending order, return \"descending\" if it is descending, and return \"neither\" if neither\n",
    "Replace 3 elements in an ArrayList with another ArrayList and reverse the order of the new list\n",
    "\n",
    "\n",
    "\n",
    "### Return \"ascending\" if the list is sorted in ascending order, return \"descending\" if it is descending, and return \"neither\" if neither"
   ]
  },
  {
   "cell_type": "code",
   "execution_count": 23,
   "metadata": {
    "vscode": {
     "languageId": "java"
    }
   },
   "outputs": [
    {
     "name": "stdout",
     "output_type": "stream",
     "text": [
      "Before Sorting:\n",
      "2\n",
      "6\n",
      "3\n",
      "7\n",
      "In descending order:\n",
      "7\n",
      "6\n",
      "3\n",
      "2\n",
      "Swap first and last:\n",
      "[2, 6, 3, 7]\n"
     ]
    }
   ],
   "source": [
    "import java.util.*;\n",
    "import java.util.Collections;\n",
    "\n",
    "public class Main  {\n",
    "\n",
    "  public static void main(String args[]){\n",
    "    ArrayList<Integer> numbers = new ArrayList<Integer>();\n",
    "    numbers.add(2);\n",
    "    numbers.add(6);\n",
    "    numbers.add(3);\n",
    "    numbers.add(7);\n",
    "\n",
    "    /*Unsorted List: ArrayList content before sorting*/\n",
    "    System.out.println(\"Before Sorting:\");\n",
    "    for(Integer num: numbers){\n",
    "      System.out.println(num);\n",
    "    }\n",
    "\n",
    "    /* Sorting in decreasing order*/\n",
    "    Collections.sort(numbers, Collections.reverseOrder());\n",
    "\n",
    "    /* Sorted List in reverse order*/\n",
    "    System.out.println(\"In descending order:\");\n",
    "    for(Integer num: numbers){\n",
    "      System.out.println(num);\n",
    "    }\n",
    "\n",
    "    Collections.swap(numbers, 0, 3);\n",
    "    System.out.println(\"Swap first and last:\");\n",
    "      System.out.println(numbers);\n",
    "  }\n",
    "}\n",
    "\n",
    "Main.main(null);\n"
   ]
  },
  {
   "cell_type": "markdown",
   "metadata": {},
   "source": [
    "### Check if ArrayList is ascending or descending"
   ]
  },
  {
   "cell_type": "code",
   "execution_count": 28,
   "metadata": {
    "vscode": {
     "languageId": "java"
    }
   },
   "outputs": [
    {
     "name": "stdout",
     "output_type": "stream",
     "text": [
      "true\n"
     ]
    }
   ],
   "source": [
    "class Main1\n",
    "{\n",
    "    public static boolean isSorted(int[] num)\n",
    "    {\n",
    "        if (num == null || num.length <= 1) {\n",
    "            return true;\n",
    "        }\n",
    " \n",
    "        for (int i = 0; i < num.length - 1; i++)\n",
    "        {\n",
    "            if (num[i] > num[i + 1]) {\n",
    "                return false;\n",
    "            }\n",
    "        }\n",
    " \n",
    "        return true;\n",
    "    }\n",
    " \n",
    "    public static void main(String[] args)\n",
    "    {\n",
    "        int[] num = { 1, 2, 3, 4, 5 };\n",
    "        System.out.println(isSorted(num));        // true\n",
    "    }\n",
    "}\n",
    "\n",
    "Main1.main(null)"
   ]
  }
 ],
 "metadata": {
  "kernelspec": {
   "display_name": "Java",
   "language": "java",
   "name": "java"
  },
  "language_info": {
   "codemirror_mode": "java",
   "file_extension": ".jshell",
   "mimetype": "text/x-java-source",
   "name": "Java",
   "pygments_lexer": "java",
   "version": "11.0.16+8-post-Ubuntu-0ubuntu120.04"
  },
  "orig_nbformat": 4
 },
 "nbformat": 4,
 "nbformat_minor": 2
}
