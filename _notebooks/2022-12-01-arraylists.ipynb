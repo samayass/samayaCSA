{
 "cells": [
  {
   "cell_type": "markdown",
   "metadata": {},
   "source": [
    "# Arraylists Lesson\n",
    "> Arraylists\n",
    "\n",
    "- title: Arraylists Lesson\n",
    "- toc: false\n",
    "- comments: false\n",
    "- categories: [jupyter]"
   ]
  },
  {
   "cell_type": "markdown",
   "metadata": {},
   "source": [
    "## Introduction\n",
    "- A reference type\n",
    "- Array cannot be modified while ArrayLists can change size dynamically\n",
    "\n",
    "## Methods\n",
    "- add(int index, element) ...\n",
    "\n",
    "## Traversing ArrayLists\n",
    "- For Loop\n",
    "- While Loop\n",
    "- Enhanced ForLoop\n",
    "\n",
    "## Searching\n",
    "- The locating of data within linear structures\n",
    "- Searching a structure involves control structures - iterationnal and selection - loop with an if statement\n",
    "- For loops are optimal for linear searching because each element needs to be specified sequentiallly with no need to trcak the index after its executed\n",
    "- Order matters sometimes in searching\n",
    "\n",
    "## Sorting \n",
    "- Sorting sorts the ArrayList in a specified order (ascending or descending)\n",
    "- Collections.sort[(list.name)] - sort in ascending order\n",
    "- Collections.sort[(ArrayList,Collections.reverseOrder())] - sort in ascending order\n",
    "\n",
    "## HW\n",
    "Create an ArrayList that includes 2 of the 4 factors listed below.\n",
    "\n",
    "Sort an ArrayList in descending order and swap the first and last elements\n",
    "Find and display the hashCode of an Arraylist before and after being sorted\n",
    "Return \"ascending\" if the list is sorted in ascending order, return \"descending\" if it is descending, and return \"neither\" if neither\n",
    "Replace 3 elements in an ArrayList with another ArrayList and reverse the order of the new list\n",
    "\n",
    "\n",
    "\n"
   ]
  }
 ],
 "metadata": {
  "language_info": {
   "name": "python"
  },
  "orig_nbformat": 4
 },
 "nbformat": 4,
 "nbformat_minor": 2
}
