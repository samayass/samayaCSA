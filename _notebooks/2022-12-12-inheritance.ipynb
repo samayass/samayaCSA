{
 "cells": [
  {
   "attachments": {},
   "cell_type": "markdown",
   "metadata": {},
   "source": [
    "# Inheritance Lesson\n",
    "> Inheritance\n",
    "\n",
    "- title: Inheritance Lesson\n",
    "- toc: false\n",
    "- comments: false\n",
    "- categories: [jupyter]"
   ]
  },
  {
   "attachments": {},
   "cell_type": "markdown",
   "metadata": {},
   "source": [
    "## Inheritance\n",
    "- The capability of a class to derive properties and characteristics from another class\n",
    "\n",
    "## Writing constructors for subclasses\n",
    "- Allows reusing the code adn adding attributes if needed in every subclass.\n",
    "- A subclass can also become a super class by extending it again in another subclass\n",
    "- Same goes for a constructor in which the keyword 'super' is used to call the super class constructor and can add additional attributes for personalization\n",
    "\n",
    "## Overriding methods\n",
    "- @Override - different implementations to the method of superclass\n",
    "\n",
    "## Polymorphism\n",
    "- Can be used when we have multiple classes that are related by inheritance.\n",
    "\n",
    "## Object superclass\n",
    "- located at the top of every class hierarchy\n",
    "- all the other classes in hierarchy can use the attributes and methods of the object  superclass through inheritance.\n",
    "\n"
   ]
  }
 ],
 "metadata": {
  "language_info": {
   "name": "python"
  },
  "orig_nbformat": 4
 },
 "nbformat": 4,
 "nbformat_minor": 2
}
