{
 "cells": [
  {
   "cell_type": "code",
   "execution_count": 1,
   "metadata": {
    "vscode": {
     "languageId": "java"
    }
   },
   "outputs": [
    {
     "name": "stdout",
     "output_type": "stream",
     "text": [
      "Enter a meal: Meal added successfully!\n"
     ]
    }
   ],
   "source": [
    "import java.io.BufferedReader;\n",
    "import java.io.FileReader;\n",
    "import java.io.FileWriter;\n",
    "import java.io.IOException;\n",
    "import java.util.Scanner;\n",
    "\n",
    "public class MealPlanner {\n",
    "    private static final String FILENAME = \"meals.txt\";\n",
    "\n",
    "    public static void main(String[] args) {\n",
    "        Scanner scanner = new Scanner(System.in);\n",
    "        String meal;\n",
    "        System.out.print(\"Enter a meal: \");\n",
    "        meal = scanner.nextLine();\n",
    "\n",
    "        try (FileWriter fileWriter = new FileWriter(FILENAME, true)) {\n",
    "            fileWriter.write(meal + \"\\n\");\n",
    "            fileWriter.flush();\n",
    "            System.out.println(\"Meal added successfully!\");\n",
    "        } catch (IOException e) {\n",
    "            e.printStackTrace();\n",
    "        }\n",
    "    }\n",
    "\n",
    "    public static String displayMeals() {\n",
    "        StringBuilder meals = new StringBuilder();\n",
    "        try (BufferedReader bufferedReader = new BufferedReader(new FileReader(FILENAME))) {\n",
    "            String line;\n",
    "            while ((line = bufferedReader.readLine()) != null) {\n",
    "                meals.append(line).append(\"<br>\");\n",
    "            }\n",
    "        } catch (IOException e) {\n",
    "            e.printStackTrace();\n",
    "        }\n",
    "        return meals.toString();\n",
    "    }\n",
    "}\n",
    "\n",
    "MealPlanner.main(null)\n"
   ]
  }
 ],
 "metadata": {
  "kernelspec": {
   "display_name": "Java",
   "language": "java",
   "name": "java"
  },
  "language_info": {
   "codemirror_mode": "java",
   "file_extension": ".jshell",
   "mimetype": "text/x-java-source",
   "name": "Java",
   "pygments_lexer": "java",
   "version": "11.0.16+8-post-Ubuntu-0ubuntu120.04"
  },
  "orig_nbformat": 4
 },
 "nbformat": 4,
 "nbformat_minor": 2
}
