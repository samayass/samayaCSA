{
 "cells": [
  {
   "attachments": {},
   "cell_type": "markdown",
   "metadata": {},
   "source": [
    "# 2d Arrays Lesson Jupyter Notebook\n",
    "> 2d Arrays\n",
    "\n",
    "- title: 2d Arrays Lesson\n",
    "- toc: true\n",
    "- comments: true\n",
    "- categories: [AP]"
   ]
  },
  {
   "cell_type": "markdown",
   "metadata": {},
   "source": [
    "## Declaring 2d arrays different ways"
   ]
  },
  {
   "cell_type": "code",
   "execution_count": 11,
   "metadata": {},
   "outputs": [],
   "source": [
    "int[][] intArray;\n",
    "double[][] doubleArray;\n",
    "String[][] stringArray;\n",
    "boolean[][] booleanArray;"
   ]
  },
  {
   "cell_type": "markdown",
   "metadata": {},
   "source": [
    "## Initializing 2d arrays"
   ]
  },
  {
   "cell_type": "code",
   "execution_count": 21,
   "metadata": {},
   "outputs": [
    {
     "name": "stdout",
     "output_type": "stream",
     "text": [
      "20\n",
      "4\n",
      "hello world\n",
      "four\n"
     ]
    }
   ],
   "source": [
    "//Method 1\n",
    "int[][] intArray = new int[3][2]; //will have to manually write out values though if random:\n",
    "intArray[0][0] = 20; //... till [2][1]\n",
    "System.out.println(intArray[0][0]);\n",
    "\n",
    "//Method 2\n",
    "int[][] intArray2 = {{1,2},{3,4},{5,6}};\n",
    "System.out.println(intArray2[1][1]);\n",
    "\n",
    "//String Method 1\n",
    "String[][] stringArray =  new String[2][2];\n",
    "stringArray[0][0] = (\"hello world\"); //... till [1][1]\n",
    "System.out.println(stringArray[0][0]);\n",
    "\n",
    "//String Method 2\n",
    "String[][] stringArray2 = {{\"one\",\"two\"},{\"three\",\"four\"}};\n",
    "System.out.println(stringArray2[1][1]);"
   ]
  },
  {
   "cell_type": "markdown",
   "metadata": {},
   "source": [
    "## Printing 2d arrays with for loops vertically vs horizontall"
   ]
  },
  {
   "cell_type": "code",
   "execution_count": 47,
   "metadata": {},
   "outputs": [
    {
     "name": "stdout",
     "output_type": "stream",
     "text": [
      "Vertically:\n",
      "1\n",
      "3\n",
      "7\n",
      "8\n",
      "4\n",
      "5\n",
      "9\n",
      "1\n",
      "1\n",
      "9\n",
      "6\n",
      "2\n",
      "Horizontally:\n",
      "1 3 7 8 4 5 9 1 1 9 6 2 \n",
      "Horizontally decreasing:\n",
      "1 4 1 \n",
      "3 5 9 \n",
      "7 9 6 \n",
      "8 1 2 \n",
      "1 4 \n",
      "3 5 \n",
      "7 9 \n",
      "8 1 \n",
      "1 \n",
      "3 \n",
      "7 \n",
      "8 \n"
     ]
    }
   ],
   "source": [
    "System.out.println(\"Vertically:\");\n",
    "int[][] matrix = {{1,3,7,8}, {4,5,9,1}, {1,9,6,2}};\n",
    "for (int i = 0; i<3; i++) {\n",
    "    for (int j = 0; j<4; j++){\n",
    "    System.out.println(matrix[i][j]);\n",
    "    }\n",
    "}\n",
    "\n",
    "System.out.println(\"Horizontally:\");\n",
    "int[][] matrix = {{1,3,7,8}, {4,5,9,1}, {1,9,6,2}};\n",
    "for (int i = 0; i<3; i++) {\n",
    "    for (int j = 0; j<4; j++){\n",
    "    System.out.print(matrix[i][j]+ \" \");\n",
    "    }\n",
    "}\n",
    "System.out.println();\n",
    "\n",
    "System.out.println(\"Horizontally decreasing:\") ;\n",
    "for (int count = 3; count >=1; count--){\n",
    "for (int col = 0; col<matrix[0].length; col++) {\n",
    "    for (int row = 0; row<count; row++){\n",
    "    System.out.print(matrix[row][col] + \" \");\n",
    "    }\n",
    "    System.out.println();\n",
    "}\n",
    "}"
   ]
  },
  {
   "cell_type": "markdown",
   "metadata": {},
   "source": [
    "## Printing 2d arrays backwards"
   ]
  },
  {
   "cell_type": "code",
   "execution_count": 64,
   "metadata": {},
   "outputs": [
    {
     "name": "stdout",
     "output_type": "stream",
     "text": [
      "Forwards:\n",
      "1 3 7 8 4 5 9 1 1 9 6 2 \n",
      "Backwards:\n",
      "2 6 9 1 1 9 5 4 8 7 3 1 "
     ]
    }
   ],
   "source": [
    "System.out.println(\"Forwards:\");\n",
    "int[][] matrix = {{1,3,7,8}, {4,5,9,1}, {1,9,6,2}};\n",
    "for (int i = 0; i<3; i++) {\n",
    "    for (int j = 0; j<4; j++){\n",
    "    System.out.print(matrix[i][j]+ \" \");\n",
    "    }\n",
    "}\n",
    "System.out.println();\n",
    "\n",
    "System.out.println(\"Backwards:\");\n",
    "int[][] matrix = {{1,3,7,8}, {4,5,9,1}, {1,9,6,2}};\n",
    "for (int row = matrix.length-1; row>=0; row--) {\n",
    "    for (int col = matrix[0].length-1; col>=0; col--){\n",
    "    System.out.print(matrix[row][col]+ \" \");\n",
    "    }\n",
    "}"
   ]
  }
 ],
 "metadata": {
  "kernelspec": {
   "display_name": "Java",
   "language": "java",
   "name": "java"
  },
  "language_info": {
   "codemirror_mode": "java",
   "file_extension": ".jshell",
   "mimetype": "text/x-java-source",
   "name": "java",
   "pygments_lexer": "java",
   "version": "11.0.16+8-post-Ubuntu-0ubuntu120.04"
  },
  "orig_nbformat": 4
 },
 "nbformat": 4,
 "nbformat_minor": 2
}
