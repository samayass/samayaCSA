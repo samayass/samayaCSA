{
 "cells": [
  {
   "cell_type": "markdown",
   "metadata": {},
   "source": [
    "# 1-5 Blog\n",
    "> With Vocab\n",
    "\n",
    "- title: 1-5 Blog\n",
    "- toc: true\n",
    "- comments: false\n",
    "- categories: [jupyter]"
   ]
  },
  {
   "cell_type": "markdown",
   "metadata": {},
   "source": [
    "## Unit 1 - Primitive Types\n",
    "\n",
    "### Primitives\n",
    "- primitives are lowercase\n",
    "- nonprimitives are uppercase\n",
    "- Collegeboard need-to-know primitives: Boolean, Int, Double\n",
    "\n",
    "### Casting\n",
    "- changing a variable from one data type to another\n",
    "- widening: happens automatically, going from smaller to larger data type\n",
    "- narrowing: need to declare to address overflow error, going from larger to smaller data type\n",
    "\n",
    "### Operators\n",
    "- (+) is addition\n",
    "- (-) is subtraction\n",
    "- (/) is division\n",
    "- (*) is multiplication\n",
    "- (%) finds the remainder\n",
    "- example: x += 7 increases the varaible by 7"
   ]
  },
  {
   "cell_type": "markdown",
   "metadata": {},
   "source": [
    "### Casting for Division\n",
    "- When dividing a double by a double the output is a double, and when dividing an integer with an integer the output is an integer, but that is not always the case. like 7/3 is not an integer. To fix this you need to cast the denominator to a double like 7/(double)3"
   ]
  },
  {
   "cell_type": "code",
   "execution_count": 1,
   "metadata": {
    "vscode": {
     "languageId": "java"
    }
   },
   "outputs": [
    {
     "name": "stdout",
     "output_type": "stream",
     "text": [
      "2\n",
      "2.3333333333333335\n"
     ]
    }
   ],
   "source": [
    "int x = 7/3;\n",
    "System.out.println(x);\n",
    "\n",
    "// vs casting with double\n",
    "double y = 7/(double)3;\n",
    "System.out.println(y);"
   ]
  },
  {
   "cell_type": "markdown",
   "metadata": {},
   "source": [
    "### Casting, specifically for Truncating or Rounding\n",
    "- When rounding double values they can be rounded to the nearest integer by adding or subtracting 0.5 and casting with (int)"
   ]
  },
  {
   "cell_type": "code",
   "execution_count": 3,
   "metadata": {
    "vscode": {
     "languageId": "java"
    }
   },
   "outputs": [
    {
     "name": "stdout",
     "output_type": "stream",
     "text": [
      "7.0/3 = 2.3333333333333335\n",
      "7/3 truncated: 2\n",
      "7.0/3 rounded to nearest int: 2\n"
     ]
    }
   ],
   "source": [
    "double x = 7.0 / 3;\n",
    "int rounded = (int)(x + 0.5);\n",
    "System.out.println(\"7.0/3 = \" + x);\n",
    "System.out.println(\"7/3 truncated: \" + (int)x );\n",
    "System.out.println(\"7.0/3 rounded to nearest int: \" + rounded);"
   ]
  },
  {
   "cell_type": "markdown",
   "metadata": {},
   "source": [
    "## Unit 2 - Using Objects\n",
    "\n",
    "### What is OOP\n",
    "- OOP is object oriented programming\n",
    "- programming pardigm centered around objects\n",
    "\n",
    "### Classes and Objects\n",
    "- classes are templates or a blueprint, contatin data\n",
    "- objects are instances of a class, need to be instantiated\n",
    "- methods are functions of a class\n",
    "- Method Declaration consists of 6 components: Access modifer, Return type, Method name, Parameter list, Exception list, Method body\n",
    "- Calling a method allows for code reuse, optimization, and organization To call an object's method you have to make an object reference"
   ]
  },
  {
   "cell_type": "markdown",
   "metadata": {},
   "source": [
    "### Wrapper Classes, why wrap int, double. Show examples\n",
    "- A wrapper class is a class whose object contains primitive data types. Wrapper classes allow us to wrap a primitive value into the class object"
   ]
  },
  {
   "cell_type": "code",
   "execution_count": 9,
   "metadata": {
    "vscode": {
     "languageId": "java"
    }
   },
   "outputs": [
    {
     "name": "stdout",
     "output_type": "stream",
     "text": [
      "2\n",
      "3.5\n"
     ]
    }
   ],
   "source": [
    "// in newer versions of Java\n",
    "Integer a = 2;\n",
    "Double b = 3.5;\n",
    "\n",
    "System.out.println(a);\n",
    "System.out.println(b)"
   ]
  },
  {
   "cell_type": "markdown",
   "metadata": {},
   "source": [
    "### Concatenation\n",
    "- Concatenation is the joining or data. \n",
    "- Some examples are:\n",
    "- string concatenation and string and object concatenation with toString() method"
   ]
  },
  {
   "cell_type": "markdown",
   "metadata": {},
   "source": [
    "### Math class, specifically Random usage\n",
    "- Math class contains methods from the java.lang package\n",
    "- These are static methods so you call them by using ClassName.methodName()\n",
    "- Ex: math.random"
   ]
  },
  {
   "cell_type": "code",
   "execution_count": 10,
   "metadata": {
    "vscode": {
     "languageId": "java"
    }
   },
   "outputs": [
    {
     "name": "stdout",
     "output_type": "stream",
     "text": [
      "2\n",
      "4.7045881E7\n",
      "22.360679774997898\n"
     ]
    }
   ],
   "source": [
    "System.out.println(Math.abs(-2));\n",
    "System.out.println(Math.pow(19, 6));\n",
    "System.out.println(Math.sqrt(500));"
   ]
  },
  {
   "cell_type": "markdown",
   "metadata": {},
   "source": [
    "# Unit 3 - Boolean Expressions and If Statements\n",
    "\n",
    "### Boolean Expressions \n",
    "A Boolean expression is a logical statement that is either True or False. Boolean expressions can compare any type of data if both parts of the expression have the same basic data type. A Boolean expression can be a combination of the Boolean constants true or false.\n",
    "\n",
    "All non zero numbers are true\n",
    "- the most common example: 1 = true; 0 = false\n",
    "- == checks for comparison\n",
    "- not to be confused with = which is assignment\n",
    "- != checks for inequality\n",
    "\n",
    "- <, >, >=, <=\n",
    "- these operands do their normal functions\n",
    "\n",
    "- || relates to the or function\n",
    "- && related to and function\n",
    "\n",
    "### Logic Gates\n",
    "Logic gates are used to carry out logical operations on single or multiple binary inputs and give one binary output. In simple terms, logic gates are the electronic circuits in a digital system.\n",
    "\n",
    "![This is an image](https://www.electronicsforu.com/wp-contents/uploads/2022/08/logic-gates.jpeg)\n",
    "\n",
    "- Buffer/YES : output is the same as the input\n",
    "- NOT : output is the opposite of the input\n",
    "- AND : returns true if both inputs are true\n",
    "- NAND : returns false if both inputs are true\n",
    "- OR : returns true if at least one of the inputs are true, returns false if both inputs are false\n",
    "- NOR : returns false if at least one of the inputs are true, returns true if both inputs are false\n",
    "- XOR : returns true if the two inputs are different\n",
    "- XNOR : returns true if two inputs are the same \n",
    "\n"
   ]
  },
  {
   "cell_type": "markdown",
   "metadata": {},
   "source": [
    "### Compound Boolean Expression - Unit 3\n",
    "- Compound Boolean Expressions are like && which means that the code is executed based on if the first and second conditions are true."
   ]
  },
  {
   "cell_type": "markdown",
   "metadata": {},
   "source": [
    "### Truth Tables\n",
    "- A truth table is a breakdown of a logic function by listing all possible values the function can attain. Such a table typically contains several rows and columns, with the top row representing the logical variables and combinations, in increasing complexity leading up to the final function.\n",
    "\n",
    "![This is an image](https://github.com/tangalice/alicetang/blob/master/images/TruthTable.png?raw=true)\n"
   ]
  },
  {
   "cell_type": "markdown",
   "metadata": {},
   "source": [
    "### De Morgan’s Law\n",
    "- DeMorgan's laws tell us how to transform logical expressions (with multiple AND and/or OR statements) using the NOT operator.\n",
    "\n",
    "(not(A and B)) is equal to (not A or not B)\n",
    "(not(A or B)) is equal to (not A and not B)\n",
    "(not(A and B)) is not equal to (not A and not B)\n",
    "\n",
    "![This is an image](https://github.com/tangalice/alicetang/blob/master/images/DeMorgans.png?raw=true)\n"
   ]
  }
 ],
 "metadata": {
  "kernelspec": {
   "display_name": "Java",
   "language": "java",
   "name": "java"
  },
  "language_info": {
   "codemirror_mode": "java",
   "file_extension": ".jshell",
   "mimetype": "text/x-java-source",
   "name": "Java",
   "pygments_lexer": "java",
   "version": "11.0.16+8-post-Ubuntu-0ubuntu120.04"
  },
  "orig_nbformat": 4
 },
 "nbformat": 4,
 "nbformat_minor": 2
}
